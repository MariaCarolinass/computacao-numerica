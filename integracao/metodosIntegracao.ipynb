{
  "nbformat": 4,
  "nbformat_minor": 0,
  "metadata": {
    "colab": {
      "provenance": []
    },
    "kernelspec": {
      "name": "python3",
      "display_name": "Python 3"
    },
    "language_info": {
      "name": "python"
    }
  },
  "cells": [
    {
      "cell_type": "markdown",
      "source": [
        "# Seja a integral de uma função:\n",
        "\n",
        "$$ I_T = \\int_a^b f(x)\\, dx$$\n"
      ],
      "metadata": {
        "id": "iG5VYZtfpTDP"
      }
    },
    {
      "cell_type": "markdown",
      "source": [
        "## 1) Implemente o método do Trapézio para calcular uma função qualquer com intervalos [a, b]."
      ],
      "metadata": {
        "id": "b-oV-UUyqbK9"
      }
    },
    {
      "cell_type": "code",
      "source": [
        "import numpy as np\n",
        "\n",
        "funcao = input()\n",
        "a = float(input())\n",
        "b = float(input())\n",
        "n = int(input())\n",
        "f = lambda x: eval(funcao)\n",
        "\n",
        "h = (b - a) / n\n",
        "x = [a + i * h for i in range(n + 1)]\n",
        "\n",
        "integral = f(x[0]) + f(x[-1])\n",
        "\n",
        "for i in range(1, n):\n",
        "    integral += 2 * f(x[i])\n",
        "\n",
        "integral *= (h / 2)\n",
        "saida = integral\n",
        "\n",
        "print(f'{saida:.3f}')"
      ],
      "metadata": {
        "colab": {
          "base_uri": "https://localhost:8080/"
        },
        "id": "fnB9-zfPqqwa",
        "outputId": "d1288783-f0e1-4c41-a3d3-783f01bde7f3"
      },
      "execution_count": null,
      "outputs": [
        {
          "output_type": "stream",
          "name": "stdout",
          "text": [
            "x\n",
            "1\n",
            "4\n",
            "10\n",
            "7.500\n"
          ]
        }
      ]
    },
    {
      "cell_type": "markdown",
      "source": [
        "## 2) Implemente o método de Simpson 1/3 para calcular uma função qualquer com intervalos [a, b]."
      ],
      "metadata": {
        "id": "mF660HV2rawX"
      }
    },
    {
      "cell_type": "code",
      "source": [
        "import numpy as np\n",
        "\n",
        "funcao = input()\n",
        "a = float(input())\n",
        "b = float(input())\n",
        "n = int(input())\n",
        "f = lambda x: eval(funcao)\n",
        "\n",
        "h = (b - a) / n\n",
        "x = [a + i * h for i in range(n + 1)]\n",
        "\n",
        "integral = f(x[0]) + f(x[-1])\n",
        "\n",
        "for i in range(1, n):\n",
        "    if i % 2 == 0:\n",
        "        integral += 2 * f(x[i])\n",
        "    else:\n",
        "        integral += 4 * f(x[i])\n",
        "\n",
        "integral *= (h / 3)\n",
        "saida = integral\n",
        "\n",
        "print(f'{saida:.3f}')"
      ],
      "metadata": {
        "colab": {
          "base_uri": "https://localhost:8080/"
        },
        "id": "Ibmb1zjJr8ee",
        "outputId": "968aba9f-2c15-4e98-eec5-cd1ebb272ca8"
      },
      "execution_count": null,
      "outputs": [
        {
          "output_type": "stream",
          "name": "stdout",
          "text": [
            "(x**4)+1\n",
            "1\n",
            "4\n",
            "10\n",
            "207.603\n"
          ]
        }
      ]
    },
    {
      "cell_type": "markdown",
      "source": [
        "## 3) Implemente o método de Simpson 3/8 para calcular uma função qualquer com intervalos [a, b]."
      ],
      "metadata": {
        "id": "TDru-iZGxi06"
      }
    },
    {
      "cell_type": "code",
      "source": [
        "import numpy as np\n",
        "\n",
        "funcao = input()\n",
        "a = float(input())\n",
        "b = float(input())\n",
        "n = int(input())\n",
        "f = lambda x: eval(funcao)\n",
        "\n",
        "h = (b - a) / n\n",
        "x = [a + i * h for i in range(n + 1)]\n",
        "integral = f(x[0]) + f(x[-1])\n",
        "\n",
        "for i in range(1, n):\n",
        "    if i % 3 == 0:\n",
        "        integral += 2 * f(x[i])\n",
        "    else:\n",
        "        integral += 3 * f(x[i])\n",
        "\n",
        "integral *= (3 * h / 8)\n",
        "saida = integral\n",
        "\n",
        "print(f'{saida:.3f}')"
      ],
      "metadata": {
        "colab": {
          "base_uri": "https://localhost:8080/"
        },
        "id": "iJBAlEGuxu41",
        "outputId": "38c72029-4889-4d3b-d729-bfa9791ea4a9"
      },
      "execution_count": null,
      "outputs": [
        {
          "output_type": "stream",
          "name": "stdout",
          "text": [
            "(x**4)+1\n",
            "1\n",
            "4\n",
            "12\n",
            "207.604\n"
          ]
        }
      ]
    },
    {
      "cell_type": "markdown",
      "source": [
        "# Seja a probabilidade de um aluno concluir uma prova de vestibular em um instante de tempo $t_1$ e $t_2$ calculada por:\n",
        "\n",
        "$$ Prob = \\int_{t_1}^{t_2} \\frac{1}{\\sigma \\sqrt{2\\pi}} e^{-\\frac{1}{2} \\left(\\frac{t - \\mu}{\\sigma}\\right)^2} dt $$\n",
        "\n",
        "Função:"
      ],
      "metadata": {
        "id": "QejaiNya2F7s"
      }
    },
    {
      "cell_type": "code",
      "source": [
        "def f(x, mu, sigma):\n",
        "  return (1 / (sigma * np.sqrt(2 * np.pi))) * np.exp(-0.5 * ((x - mu) / sigma) ** 2)"
      ],
      "metadata": {
        "id": "Dhd8eym9eacj"
      },
      "execution_count": null,
      "outputs": []
    },
    {
      "cell_type": "markdown",
      "source": [
        "## 1) Utilize o método do trapézio para chegar em uma aproximação da função com 5 aplicações (subintervalos). Entre os instantes de tempo $t_1 = 32min$ e $t_2 = 99min$.\n",
        "\n",
        "Com os valores para $\\mu = 121min$ e desvio padrão $\\sigma = 12 min$."
      ],
      "metadata": {
        "id": "2ibfxzjV3hH6"
      }
    },
    {
      "cell_type": "code",
      "source": [
        "import numpy as np\n",
        "\n",
        "a = 32\n",
        "b = 99\n",
        "n = 5\n",
        "\n",
        "mu = 121\n",
        "sigma = 12\n",
        "\n",
        "h = (b - a) / n\n",
        "x = np.linspace(a, b, n + 1)\n",
        "I = np.trapz(f(x, mu, sigma), x)\n",
        "\n",
        "print(f'{I:.5f}')"
      ],
      "metadata": {
        "colab": {
          "base_uri": "https://localhost:8080/"
        },
        "id": "2r-bvYg233TU",
        "outputId": "05ad2c7e-b11a-4f07-9020-058bfe965f8b"
      },
      "execution_count": null,
      "outputs": [
        {
          "output_type": "stream",
          "name": "stdout",
          "text": [
            "0.04735\n"
          ]
        }
      ]
    },
    {
      "cell_type": "markdown",
      "source": [
        "\n",
        "## 2) Utilize o método de Simpson 1/3 para chegar em uma aproximação da função com 6 aplicações (12 subintervalos). Entre os instantes de tempo $t_1=35min$ e $t_2=108min$.\n",
        "\n",
        "Com os valores para $\\mu = 113min$ e desvio padrão $\\sigma = 17 min$."
      ],
      "metadata": {
        "id": "E-ukL1rE6JzA"
      }
    },
    {
      "cell_type": "code",
      "source": [
        "import numpy as np\n",
        "\n",
        "a = 35\n",
        "b = 108\n",
        "n = 12\n",
        "\n",
        "mu = 113\n",
        "sigma = 17\n",
        "\n",
        "h = (b - a) / n\n",
        "x = np.linspace(a, b, n + 1)\n",
        "integral = f(x[0], mu, sigma) + f(x[-1], mu, sigma)\n",
        "\n",
        "for i in range(1, n):\n",
        "    if i % 2 == 0:\n",
        "        integral += 2 * f(x[i], mu, sigma)\n",
        "    else:\n",
        "        integral += 4 * f(x[i], mu, sigma)\n",
        "\n",
        "integral *= (h / 3)\n",
        "saida = integral\n",
        "\n",
        "print(f'{saida:.5f}')"
      ],
      "metadata": {
        "colab": {
          "base_uri": "https://localhost:8080/"
        },
        "id": "h_akbe7X6ioV",
        "outputId": "da3d8f74-7217-4491-bb39-3afea019157b"
      },
      "execution_count": null,
      "outputs": [
        {
          "output_type": "stream",
          "name": "stdout",
          "text": [
            "0.38430\n"
          ]
        }
      ]
    },
    {
      "cell_type": "markdown",
      "source": [
        "## 3) Utilize o método de Simpson 3/8 para chegar em uma aproximação da função com 6 aplicações (18 subintervalos). Entre os instantes de tempo $t_1=39min$ e $t_2=96min$.\n",
        "\n",
        "Com os valores para $\\mu = 118min$ e desvio padrão $\\sigma = 17 min$."
      ],
      "metadata": {
        "id": "TeoJT2vj96W6"
      }
    },
    {
      "cell_type": "code",
      "source": [
        "import numpy as np\n",
        "\n",
        "a = 39\n",
        "b = 96\n",
        "n = 18\n",
        "\n",
        "mu = 118\n",
        "sigma = 17\n",
        "\n",
        "h = (b - a) / n\n",
        "x = np.linspace(a, b, n + 1)\n",
        "integral = f(x[0], mu, sigma) + f(x[-1], mu, sigma)\n",
        "\n",
        "for i in range(1, n):\n",
        "    if i % 3 == 0:\n",
        "        integral += 2 * f(x[i], mu, sigma)\n",
        "    else:\n",
        "        integral += 3 * f(x[i], mu, sigma)\n",
        "\n",
        "integral *= (3 * h / 8)\n",
        "saida = integral\n",
        "\n",
        "print(f'{saida:.5f}')"
      ],
      "metadata": {
        "colab": {
          "base_uri": "https://localhost:8080/"
        },
        "id": "W1Tz8zdr-Hxm",
        "outputId": "6b1811ee-7f1c-4455-801d-c6b7e2b6d290"
      },
      "execution_count": null,
      "outputs": [
        {
          "output_type": "stream",
          "name": "stdout",
          "text": [
            "0.09781\n"
          ]
        }
      ]
    }
  ]
}