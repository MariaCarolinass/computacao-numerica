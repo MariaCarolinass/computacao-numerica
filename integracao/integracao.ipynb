{
  "nbformat": 4,
  "nbformat_minor": 0,
  "metadata": {
    "colab": {
      "provenance": []
    },
    "kernelspec": {
      "name": "python3",
      "display_name": "Python 3"
    },
    "language_info": {
      "name": "python"
    }
  },
  "cells": [
    {
      "cell_type": "markdown",
      "source": [
        "# Integração Numérica"
      ],
      "metadata": {
        "id": "Ck9V5uPBMmM2"
      }
    },
    {
      "cell_type": "markdown",
      "source": [
        "Uma função aproximada por polinômio para funções que não podem ser integradas analiticamente."
      ],
      "metadata": {
        "id": "JmKGNWwpPfjf"
      }
    },
    {
      "cell_type": "markdown",
      "source": [
        "## Importações"
      ],
      "metadata": {
        "id": "tR_gPEXARjVR"
      }
    },
    {
      "cell_type": "code",
      "source": [
        "import numpy as np\n",
        "import matplotlib.pyplot as plt"
      ],
      "metadata": {
        "id": "fnVib0n6RmGC"
      },
      "execution_count": 2,
      "outputs": []
    },
    {
      "cell_type": "markdown",
      "source": [
        "## Regra do Trapézio"
      ],
      "metadata": {
        "id": "kPaEsurCQt06"
      }
    },
    {
      "cell_type": "markdown",
      "source": [
        "Na Regra do Trapézio uma reta é utilizada como polinômio aproximador.\n",
        "\n",
        "$$P_1(x) = a_0 + a_1x$$\n",
        "\n",
        "A reta precisa ser definida de forma a passar pelos pontos $(a,f(a))$ e $(b,f(b))$, onde $a$ e $b$ definem o intervalo de integração.\n",
        "\n",
        "$$\\int_a^b P_1(x) \\, dx = \\frac{h}{2} [f(a) + f(b)]$$\n",
        "\n",
        "Sendo o comprimento do subintervalo,\n",
        "\n",
        "$$h = b − a$$\n",
        "\n",
        "O erro cometido pode ser expresso por:\n",
        "\n",
        "$$\\epsilon = -\\frac{1}{12}f''(\\tau)h^3$$\n",
        "\n",
        "em que $\\tau$ é um valor entre $a$ e $b$, ou seja, $a ≤ \\tau ≤ b$."
      ],
      "metadata": {
        "id": "drZlLjCQQ6xq"
      }
    },
    {
      "cell_type": "markdown",
      "source": [
        "**1) Calcular numericamente o valor de**\n",
        "\n",
        "$$\\int_a^b I = \\frac{1}{x}\\, dx$$"
      ],
      "metadata": {
        "id": "XeHWRBIYVFUp"
      }
    },
    {
      "cell_type": "code",
      "source": [
        "a = 1.0\n",
        "b = 6.0\n",
        "\n",
        "# valor exato da integral\n",
        "I = np.log(b) - np.log(a)\n",
        "\n",
        "# regra do trapézio\n",
        "h = b - a\n",
        "fa = 1 / a\n",
        "fb = 1 / b\n",
        "Itrap = (h / 2) * (fa + fb)\n",
        "\n",
        "# erro relativo\n",
        "t = 1.5\n",
        "fdev = 2 / t ** 3\n",
        "erroRel = np.abs(-(1 / 12) * fdev * h ** 3)\n",
        "\n",
        "print(f'I = {I:.5f}')\n",
        "print(f'Itrap = {Itrap:.5f}')\n",
        "print(f'erro relativo = {erroRel:.5f}')"
      ],
      "metadata": {
        "colab": {
          "base_uri": "https://localhost:8080/"
        },
        "id": "33F_vZHxSRF_",
        "outputId": "c1c72080-7031-4b3b-a682-9b2234e9a028"
      },
      "execution_count": 5,
      "outputs": [
        {
          "output_type": "stream",
          "name": "stdout",
          "text": [
            "I = 1.79176\n",
            "Itrap = 2.91667\n",
            "erro relativo = 6.17284\n"
          ]
        }
      ]
    },
    {
      "cell_type": "code",
      "source": [
        "plt.plot(np.linspace(a, b, 100), 1 / np.linspace(a, b, 100))\n",
        "plt.show()"
      ],
      "metadata": {
        "colab": {
          "base_uri": "https://localhost:8080/",
          "height": 430
        },
        "id": "ox-HGe6rqge6",
        "outputId": "bd0fe51e-d881-4f17-a80e-f7e9bf2a3188"
      },
      "execution_count": null,
      "outputs": [
        {
          "output_type": "display_data",
          "data": {
            "text/plain": [
              "<Figure size 640x480 with 1 Axes>"
            ],
            "image/png": "[encoded data removed]"
          },
          "metadata": {}
        }
      ]
    },
    {
      "cell_type": "markdown",
      "source": [
        "### Regra do Trapézio Composta"
      ],
      "metadata": {
        "id": "lQ_-X5_wZVsp"
      }
    },
    {
      "cell_type": "markdown",
      "source": [
        "Na Regra Composta, subdivide-se o intervalo inicial $[a,b]$ em $n$ subintervalos, de forma que esses subintervalos tenham largura $h$ igual. Se somarmos cada área calculada, obtêm-se a integral para a Regra do Trapézio Composta:\n",
        "\n",
        "$$I_t = \\frac{h}{2} [f(x_0​) + 2f(x_1​) + 2f(x_2​) + ... + 2f(x_{n-1}) + f(x_n​)]$$\n",
        "\n",
        "**Ideal para funções diferentes de uma reta.**\n",
        "\n",
        "O erro cometido pode ser expresso por:\n",
        "\n",
        "$$\\epsilon = -\\frac{n}{12}f''(\\tau)h^3$$\n",
        "\n",
        "em que $\\tau$ é um valor entre $a$ e $b$, ou seja, $a ≤ \\tau ≤ b$."
      ],
      "metadata": {
        "id": "fzxZp9jCZafb"
      }
    },
    {
      "cell_type": "markdown",
      "source": [
        "**2) Calcular a integral abaixo com $n=6$ aplicações da Regra do Trapézio:**"
      ],
      "metadata": {
        "id": "DhTkhOe4ZxRe"
      }
    },
    {
      "cell_type": "markdown",
      "source": [
        "$$\\int_{-2}^{2} \\frac{x^2}{5} + 2\\sin(x) \\, dx$$"
      ],
      "metadata": {
        "id": "n2hZ5zcUbrzD"
      }
    },
    {
      "cell_type": "code",
      "source": [
        "a = -2\n",
        "b = 2\n",
        "n = 6\n",
        "\n",
        "def f(x):\n",
        "  return (x ** 2 / 5) + 2 * np.sin(x)\n",
        "\n",
        "Ireal = (b ** 3 / 15) - 2 * np.cos(b) - ((a ** 3 / 15) - 2 * np.cos(a))\n",
        "print(f'Ireal = {Ireal:.4f}')\n",
        "\n",
        "h = (b - a) / n\n",
        "x = np.linspace(a, b, n + 1)\n",
        "Itrap = np.trapz(f(x), x)\n",
        "print(f'Itrap = {Itrap:.3f}')\n",
        "\n",
        "t = np.linspace(a, b, 100)\n",
        "fdev = (2 / 5) - 2 * np.sin(t)\n",
        "e = np.max(np.abs(-(n / 12) * fdev * h ** 3))\n",
        "print(f'erro máximo = {e:.5f}')"
      ],
      "metadata": {
        "colab": {
          "base_uri": "https://localhost:8080/"
        },
        "id": "0YS_H3pOb8ov",
        "outputId": "90445b98-5ffe-4f6b-e6d6-c94c4f5479e0"
      },
      "execution_count": 14,
      "outputs": [
        {
          "output_type": "stream",
          "name": "stdout",
          "text": [
            "Ireal = 1.0667\n",
            "Itrap = 1.126\n",
            "erro máximo = 0.35552\n"
          ]
        }
      ]
    },
    {
      "cell_type": "code",
      "source": [
        "plt.plot(np.linspace(a, b, 100), f(np.linspace(a, b, 100)))\n",
        "plt.plot(x, f(x), 'o')\n",
        "plt.show()"
      ],
      "metadata": {
        "colab": {
          "base_uri": "https://localhost:8080/",
          "height": 430
        },
        "id": "xbbq1SnotB_y",
        "outputId": "2ad824bd-3623-4a44-b8ce-d1fb48beacce"
      },
      "execution_count": 15,
      "outputs": [
        {
          "output_type": "display_data",
          "data": {
            "text/plain": [
              "<Figure size 640x480 with 1 Axes>"
            ],
            "image/png": "[encoded data removed]"
          },
          "metadata": {}
        }
      ]
    },
    {
      "cell_type": "markdown",
      "source": [
        "## Regra 1/3 de Simpson"
      ],
      "metadata": {
        "id": "G2kcsf29QwkT"
      }
    },
    {
      "cell_type": "markdown",
      "source": [
        "A regra 1/3 de Simpson utiliza uma parábola para aproximar a função no intervalo de integração, como vantagem tem um erro menor do que a regra do trapézio. É necessário 3 pontos de interpolação da função para encontrar o polinômio de segundo grau, sendo os pontos das extremidades $x_0 = a$ e $x_2 = b$. O $x_1$ é obtido pelo ponto médio entre $[a, b]$.\n",
        "\n",
        "$$h = \\frac{(b - a)}{2}$$\n",
        "\n",
        "A integral pode ser aproximada pela seguinte fórmula:\n",
        "\n",
        "$$\\int_a^b P_2(x) \\, dx = \\frac{h}{3} (y_0 + 4y_1 + y_2)$$\n",
        "\n",
        "O erro cometido pode ser calculado através da expressão:\n",
        "\n",
        "$$\\epsilon = -\\frac{1}{90}f^{(4)}(\\tau)h^5$$\n",
        "\n",
        "onde $\\tau \\in [a, b]$."
      ],
      "metadata": {
        "id": "F8aQSONMl4r5"
      }
    },
    {
      "cell_type": "markdown",
      "source": [
        "### Regra 1/3 de Simpson Composta"
      ],
      "metadata": {
        "id": "LkYhx9yh_Cr3"
      }
    },
    {
      "cell_type": "markdown",
      "source": [
        "Um pequeno ajuste é feito de modo a melhorar a aproximação na Regra 1/3 de Simpson, dividindo o intervalo $[a, b]$ em $2n$ subintervalos.\n",
        "\n",
        "$$h = \\frac{(b - a)}{2}$$\n",
        "\n",
        "A integral composta calculada pela seguinte fórmula:\n",
        "\n",
        "$$I_{\\frac{1}{3}} = \\frac{h}{3} [y_0 + 4y_1 + 2y_2 + 4y3 ... 2y_{2n-2} + 4y_{2n-1} + y_{2n}]$$\n",
        "\n",
        "Para o erro cometido:\n",
        "\n",
        "$$\\epsilon = -\\frac{n}{90}f^{(4)}(\\tau)h^5$$\n",
        "\n",
        "onde $\\tau \\in [a, b]$."
      ],
      "metadata": {
        "id": "oJzz7OZp_Enb"
      }
    },
    {
      "cell_type": "markdown",
      "source": [
        "**3) Calcular a integral abaixo com $n=3$ aplicações da Regra 1/3 de Simpson:**"
      ],
      "metadata": {
        "id": "WHaQL2N3Ey-t"
      }
    },
    {
      "cell_type": "markdown",
      "source": [
        "$$\\int_{-2}^{2} \\frac{x^2}{5} + 2\\sin(x) \\, dx$$"
      ],
      "metadata": {
        "id": "-ApvH5AqE0IE"
      }
    },
    {
      "cell_type": "code",
      "source": [
        "a = -2\n",
        "b = 2\n",
        "n = 3\n",
        "\n",
        "h = (b - a) / (2 * n)\n",
        "x = np.linspace(a, b, 2 * n + 1)\n",
        "Area = 0\n",
        "y = f(x)\n",
        "\n",
        "for i in range(0, 2 * n, 2):\n",
        "    Area += (h / 3) * (y[i] + 4 * y[i + 1] + y[i + 2])\n",
        "\n",
        "print(f'Area = {Area:.5f}')\n",
        "\n",
        "t = np.linspace(a, b, 100)\n",
        "fdev = 2 * np.sin(t)\n",
        "e = np.max(np.abs(-(n / 90) * fdev * h ** 5))\n",
        "print(f'erro relativo = {e:.4f}')"
      ],
      "metadata": {
        "colab": {
          "base_uri": "https://localhost:8080/"
        },
        "id": "_Oj-_hUMmZHW",
        "outputId": "879ac83d-9282-4d48-d3bb-d8f7be5fae68"
      },
      "execution_count": 17,
      "outputs": [
        {
          "output_type": "stream",
          "name": "stdout",
          "text": [
            "Area = 1.06667\n",
            "erro relativo = 0.0088\n"
          ]
        }
      ]
    },
    {
      "cell_type": "markdown",
      "source": [
        "## Regra 3/8 de Simpson"
      ],
      "metadata": {
        "id": "BGZ05qOUQ0rS"
      }
    },
    {
      "cell_type": "markdown",
      "source": [
        "Na regra 3/8 de Simpson é utilizado um polinômio de terceiro grau para aproximar a função $f(x)$ no intervalo $[a, b]$, de forma que são necessários 4 pontos para obter esse polinômio. Para isso divide-se o intervalo $[a, b]$ em três subintervalos igualmente espaçados de $h$.\n",
        "\n",
        "$$h = \\frac{(b - a)}{3}$$\n",
        "\n",
        "Ficando a integral pelo método de Simpson 3/8:\n",
        "\n",
        "$$\\int_a^b P_3(x) \\, dx = \\frac{3h}{8} (y_0 + 3y_1 + 3y_2 + y_3)$$\n",
        "\n",
        "E o erro pode ser expresso como:\n",
        "\n",
        "$$\\epsilon = -\\frac{3}{80}f^{(4)}(\\tau)h^5$$\n",
        "\n",
        "onde $\\tau \\in [a, b]$."
      ],
      "metadata": {
        "id": "FpxqtAHWnjb8"
      }
    },
    {
      "cell_type": "markdown",
      "source": [
        "### Regra 3/8 de Simpson Composto"
      ],
      "metadata": {
        "id": "e5i9a3UvI9Lw"
      }
    },
    {
      "cell_type": "markdown",
      "source": [
        "Também, podemos dividir o intervalo em n vezes na regra composta de 3/8 de Simpson.\n",
        "\n",
        "$$h = \\frac{(b - a)}{3n}$$\n",
        "\n",
        "Teremos uma área somada a todas escrita como:\n",
        "\n",
        "$$I_{\\frac{3}{8}} = \\frac{3h}{8} [y_0​ + 3y_1 ​+ 3y_2​ + 2y_3​ + 3y_4​ + 3y_5 ​... + 2y_{3n−3} ​+ 3y_{3n−2} ​+ 3y_{3n−1}​ + y_{3n}]$$\n",
        "\n",
        "o erro pode ser expresso como:\n",
        "\n",
        "$$\\epsilon = -\\frac{3n}{80}f^{(4)}(\\tau)h^5$$\n",
        "\n",
        "onde $\\tau \\in [a, b]$."
      ],
      "metadata": {
        "id": "Fugkh4lbJC43"
      }
    },
    {
      "cell_type": "markdown",
      "source": [
        "**4) Calcular a integral abaixo com $n=2$ aplicações da Regra 3/8 de Simpson:**"
      ],
      "metadata": {
        "id": "b_y2SKaQFtuO"
      }
    },
    {
      "cell_type": "markdown",
      "source": [
        "$$\\int_{-2}^{2} \\frac{x^2}{5} + 2\\sin(x) \\, dx$$"
      ],
      "metadata": {
        "id": "4mF0pvjJF0gb"
      }
    },
    {
      "cell_type": "code",
      "source": [
        "a = -2\n",
        "b = 2\n",
        "n = 2\n",
        "\n",
        "h = (b - a) / (3 * n)\n",
        "x = np.linspace(a, b, 3 * n + 1)\n",
        "Area = 0\n",
        "y = f(x)\n",
        "\n",
        "for i in range(0, 3 * n, 3):\n",
        "    Area += (3 * h / 8) * (y[i] + 3 * y[i + 1] + 3 * y[i + 2] + y[i + 3])\n",
        "\n",
        "print(f'Area = {Area:.5f}')\n",
        "\n",
        "t = np.linspace(a, b, 100)\n",
        "fdev = 2 * np.sin(t)\n",
        "e = np.max(np.abs(-(3 * n / 80) * fdev * h ** 5))\n",
        "print(f'erro relativo = {e:.5f}')"
      ],
      "metadata": {
        "colab": {
          "base_uri": "https://localhost:8080/"
        },
        "id": "xXQfst2IniwU",
        "outputId": "37997b58-7905-47c4-d794-08664342a199"
      },
      "execution_count": 19,
      "outputs": [
        {
          "output_type": "stream",
          "name": "stdout",
          "text": [
            "Area = 1.06667\n",
            "erro relativo = 0.01975\n"
          ]
        }
      ]
    }
  ]
}