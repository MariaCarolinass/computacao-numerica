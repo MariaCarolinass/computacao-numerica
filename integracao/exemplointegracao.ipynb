{
  "nbformat": 4,
  "nbformat_minor": 0,
  "metadata": {
    "colab": {
      "provenance": []
    },
    "kernelspec": {
      "name": "python3",
      "display_name": "Python 3"
    },
    "language_info": {
      "name": "python"
    }
  },
  "cells": [
    {
      "cell_type": "code",
      "execution_count": null,
      "metadata": {
        "colab": {
          "base_uri": "https://localhost:8080/"
        },
        "id": "PSjvxJ9FDGwT",
        "outputId": "4dd975a6-e966-4d54-9ab7-bd7cad54f17d"
      },
      "outputs": [
        {
          "output_type": "stream",
          "name": "stdout",
          "text": [
            "88.20995\n"
          ]
        }
      ],
      "source": [
        "import numpy as np\n",
        "\n",
        "a = 4\n",
        "b = 7\n",
        "n = 6\n",
        "\n",
        "def f(x):\n",
        "  return (1 / (b - a)) * 112 / (1 + 4 * np.exp(- x / 2))\n",
        "\n",
        "h = (b - a) / n\n",
        "x = np.linspace(a, b, n + 1)\n",
        "integral = f(x[0]) + f(x[-1])\n",
        "\n",
        "for i in range(1, n):\n",
        "    if i % 2 == 0:\n",
        "        integral += 2 * f(x[i])\n",
        "    else:\n",
        "        integral += 4 * f(x[i])\n",
        "\n",
        "integral *= (h / 3)\n",
        "saida = integral\n",
        "\n",
        "print(f'{saida:.5f}')"
      ]
    }
  ]
}