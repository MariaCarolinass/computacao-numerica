{
 "cells": [
  {
   "cell_type": "code",
   "execution_count": 61,
   "id": "d520d0bd-104b-4167-8831-2a71ac1c7004",
   "metadata": {},
   "outputs": [],
   "source": [
    "import numpy as np"
   ]
  },
  {
   "cell_type": "code",
   "execution_count": 62,
   "id": "c4fd3492-b6a0-4a9c-bac9-97594635d545",
   "metadata": {},
   "outputs": [],
   "source": [
    "def f(m):\n",
    "    return (9.8 * m / 13) * np.exp(-13 / m * 5.1) - (9.8 * m / 13) + 30.1"
   ]
  },
  {
   "cell_type": "code",
   "execution_count": 63,
   "id": "c93926dd-c7f1-4cd4-93d3-5608a2c7b5e1",
   "metadata": {},
   "outputs": [],
   "source": [
    "def secante(m0, m1, erro, itMax):\n",
    "    it = 0\n",
    "    erroRel = 1\n",
    "      \n",
    "    ma1 = m0\n",
    "    m = m1\n",
    "    \n",
    "    while erroRel >= erro and it < itMax:\n",
    "        ma2 = ma1\n",
    "        ma1 = m\n",
    "    \n",
    "        m = ma1 - f(ma1) * (ma2 - ma1) / (f(ma2) - f(ma1))\n",
    "        erroRel = abs((m - ma1) / m)\n",
    "        \n",
    "        it += 1\n",
    "        \n",
    "    return m, erroRel, it"
   ]
  },
  {
   "cell_type": "code",
   "execution_count": 64,
   "id": "1b4da26b-b98c-4c4a-b104-acf0a8009353",
   "metadata": {},
   "outputs": [
    {
     "name": "stdout",
     "output_type": "stream",
     "text": [
      "59.3458\n",
      "0.0025\n",
      "3\n"
     ]
    }
   ],
   "source": [
    "x, erroRel, it = secante(45, 50, 10 ** -4, 3)\n",
    "print(f'{x:.4f}')\n",
    "print(f'{erroRel:.4f}')\n",
    "print(it)"
   ]
  },
  {
   "cell_type": "code",
   "execution_count": null,
   "id": "c6453c71-ae12-4e91-9b11-9155a673a29d",
   "metadata": {},
   "outputs": [],
   "source": []
  }
 ],
 "metadata": {
  "kernelspec": {
   "display_name": "Python 3",
   "language": "python",
   "name": "python3"
  },
  "language_info": {
   "codemirror_mode": {
    "name": "ipython",
    "version": 3
   },
   "file_extension": ".py",
   "mimetype": "text/x-python",
   "name": "python",
   "nbconvert_exporter": "python",
   "pygments_lexer": "ipython3",
   "version": "3.6.8"
  }
 },
 "nbformat": 4,
 "nbformat_minor": 5
}
