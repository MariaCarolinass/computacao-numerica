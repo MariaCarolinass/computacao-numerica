{
 "cells": [
  {
   "cell_type": "code",
   "execution_count": 1,
   "id": "44e66289-9363-4217-8724-9ad54908d9e0",
   "metadata": {},
   "outputs": [],
   "source": [
    "import numpy as np"
   ]
  },
  {
   "cell_type": "code",
   "execution_count": 7,
   "id": "9bd27e85-8e6b-4758-acba-dc4ca33d7e26",
   "metadata": {},
   "outputs": [],
   "source": [
    "def f(x):\n",
    "    return x ** 3 + 2 * x \n",
    "\n",
    "def f1(x):\n",
    "    return 3 * x ** 2 + 2\n",
    "\n",
    "def f2(x):\n",
    "    return 6 * x"
   ]
  },
  {
   "cell_type": "code",
   "execution_count": 8,
   "id": "0a9e92e3-01c7-402b-884b-bc838f9c4c10",
   "metadata": {},
   "outputs": [],
   "source": [
    "def p(x0, x):\n",
    "    return f(x0) + f1(x0) * (x - x0) + f2(x0) / 2 * (x - x0) ** 2"
   ]
  },
  {
   "cell_type": "code",
   "execution_count": 15,
   "id": "35731b9c-bf03-4af7-9214-c66bc54024e6",
   "metadata": {},
   "outputs": [
    {
     "name": "stdout",
     "output_type": "stream",
     "text": [
      "12.167\n"
     ]
    }
   ],
   "source": [
    "erro = f(1.3) - p(-1, 1.3)\n",
    "print(f'{erro:.3f}')"
   ]
  }
 ],
 "metadata": {
  "kernelspec": {
   "display_name": "Python 3",
   "language": "python",
   "name": "python3"
  },
  "language_info": {
   "codemirror_mode": {
    "name": "ipython",
    "version": 3
   },
   "file_extension": ".py",
   "mimetype": "text/x-python",
   "name": "python",
   "nbconvert_exporter": "python",
   "pygments_lexer": "ipython3",
   "version": "3.6.8"
  }
 },
 "nbformat": 4,
 "nbformat_minor": 5
}
