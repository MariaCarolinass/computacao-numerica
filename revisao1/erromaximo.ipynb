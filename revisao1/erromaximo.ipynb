{
 "cells": [
  {
   "cell_type": "code",
   "execution_count": 3,
   "id": "3f0715aa-a2f2-4234-82e5-0d0e896e649c",
   "metadata": {},
   "outputs": [],
   "source": [
    "import numpy as np"
   ]
  },
  {
   "cell_type": "code",
   "execution_count": 4,
   "id": "89539d98-5b2c-433d-b6fb-552a7860c565",
   "metadata": {},
   "outputs": [],
   "source": [
    "def f(x):\n",
    "    return np.exp(x / 2)\n",
    "\n",
    "def f3(x):\n",
    "    return (1 / 8) * np.exp(x / 2)"
   ]
  },
  {
   "cell_type": "code",
   "execution_count": 5,
   "id": "88f149a4-1e16-49b8-b987-73bbd3b17fb0",
   "metadata": {},
   "outputs": [],
   "source": [
    "def r(x0, x):\n",
    "    return (f3(x) / 6) * (x - x0) ** 3"
   ]
  },
  {
   "cell_type": "code",
   "execution_count": 7,
   "id": "0d129591-4137-445d-8c4b-93e82e3e5567",
   "metadata": {},
   "outputs": [
    {
     "name": "stdout",
     "output_type": "stream",
     "text": [
      "0.172941\n"
     ]
    }
   ],
   "source": [
    "erromax = r(0.3, 1.8)\n",
    "print(f'{erromax:.6f}')"
   ]
  }
 ],
 "metadata": {
  "kernelspec": {
   "display_name": "Python 3",
   "language": "python",
   "name": "python3"
  },
  "language_info": {
   "codemirror_mode": {
    "name": "ipython",
    "version": 3
   },
   "file_extension": ".py",
   "mimetype": "text/x-python",
   "name": "python",
   "nbconvert_exporter": "python",
   "pygments_lexer": "ipython3",
   "version": "3.6.8"
  }
 },
 "nbformat": 4,
 "nbformat_minor": 5
}
