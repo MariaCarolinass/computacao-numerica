{
  "nbformat": 4,
  "nbformat_minor": 0,
  "metadata": {
    "colab": {
      "provenance": []
    },
    "kernelspec": {
      "name": "python3",
      "display_name": "Python 3"
    },
    "language_info": {
      "name": "python"
    }
  },
  "cells": [
    {
      "cell_type": "code",
      "source": [
        "import numpy as np"
      ],
      "metadata": {
        "id": "perYg6V4dg-B"
      },
      "execution_count": null,
      "outputs": []
    },
    {
      "cell_type": "code",
      "source": [
        "import matplotlib.pyplot as plt"
      ],
      "metadata": {
        "id": "ZUAebjOkdkIG"
      },
      "execution_count": null,
      "outputs": []
    },
    {
      "cell_type": "code",
      "source": [
        "def f(x, n):\n",
        "  return x ** 2 - n"
      ],
      "metadata": {
        "id": "iwaxPYsPd5VV"
      },
      "execution_count": null,
      "outputs": []
    },
    {
      "cell_type": "code",
      "source": [
        "def plotar_grafico(a, b, n):\n",
        "  x = np.arange(a, b, 1)\n",
        "  plt.plot(x, f(x, n))\n",
        "  plt.show()"
      ],
      "metadata": {
        "id": "HgXpa7y9gphu"
      },
      "execution_count": null,
      "outputs": []
    },
    {
      "cell_type": "markdown",
      "source": [
        "# Bissecção"
      ],
      "metadata": {
        "id": "87azmrJodc3p"
      }
    },
    {
      "cell_type": "code",
      "execution_count": null,
      "metadata": {
        "id": "KW-uovncc6-y"
      },
      "outputs": [],
      "source": [
        "def bisseccao(a, b, n, erro, itMax):\n",
        "  it = 0\n",
        "  erro_relativo = 1\n",
        "  x = a\n",
        "\n",
        "  while (erro_relativo >= erro and it < itMax):\n",
        "    xOld = x\n",
        "    x = (a + b) / 2\n",
        "    erro_relativo = abs((x - xOld) / x)\n",
        "\n",
        "    if f(a, n) * f(x, n) < 0:\n",
        "      b = x\n",
        "    else:\n",
        "      a = x\n",
        "\n",
        "    it += 1\n",
        "\n",
        "  return (x, erro_relativo, it)"
      ]
    },
    {
      "cell_type": "code",
      "source": [
        "# plotar_grafico(2, 5, 14)\n",
        "\n",
        "a = 2\n",
        "b = 5\n",
        "n = 14\n",
        "erro = 10 ** -5\n",
        "itMax = 16\n",
        "\n",
        "res = bisseccao(a, b, n, erro, itMax)\n",
        "\n",
        "print(f\"O valor da raíz é: {res[0]:.4f}\")\n",
        "print(f\"O erro relativo foi: {res[1]:.4f}\")\n",
        "print(f\"O número de iterações realizadas foi: {res[2]}\")"
      ],
      "metadata": {
        "colab": {
          "base_uri": "https://localhost:8080/"
        },
        "id": "e5uGFi_5gBxN",
        "outputId": "2c33dc38-00c1-4eec-d180-acd860767382"
      },
      "execution_count": null,
      "outputs": [
        {
          "output_type": "stream",
          "name": "stdout",
          "text": [
            "O valor da raíz é: 3.7417\n",
            "O erro relativo foi: 0.0000\n",
            "O número de iterações realizadas foi: 16\n"
          ]
        }
      ]
    },
    {
      "cell_type": "markdown",
      "source": [
        "# Falsa Posição"
      ],
      "metadata": {
        "id": "cpYuUyuWexxM"
      }
    },
    {
      "cell_type": "code",
      "source": [
        "def falsa_posicao(a, b, n, erro, itMax):\n",
        "  it = 0\n",
        "  erro_relativo = 1\n",
        "  x = a\n",
        "\n",
        "  while (erro_relativo >= erro and it < itMax):\n",
        "    xOld = x\n",
        "    x = a - f(a, n) * (b - a) / (f(b, n) - f(a, n))\n",
        "    erro_relativo = abs((x - xOld) / x)\n",
        "\n",
        "    if f(a, n) * f(x, n) < 0:\n",
        "      b = x\n",
        "    else:\n",
        "      a = x\n",
        "\n",
        "    it += 1\n",
        "\n",
        "  return (x, erro_relativo, it)"
      ],
      "metadata": {
        "id": "cAwto6wBe0jR"
      },
      "execution_count": null,
      "outputs": []
    },
    {
      "cell_type": "code",
      "source": [
        "a = 2\n",
        "b = 5\n",
        "n = 35\n",
        "erro = 10 ** -5\n",
        "itMax = 16\n",
        "\n",
        "res = falsa_posicao(a, b, n, erro, itMax)\n",
        "\n",
        "print(f\"O valor da raíz é: {res[0]:.4f}\")\n",
        "print(f\"O erro relativo foi: {res[1]:.4f}\")\n",
        "print(f\"O número de iterações realizadas foi: {res[2]}\")"
      ],
      "metadata": {
        "colab": {
          "base_uri": "https://localhost:8080/"
        },
        "id": "z44PhR7EoBi8",
        "outputId": "c8645340-1a8f-4f0d-c60b-1ebc6ed09e35"
      },
      "execution_count": null,
      "outputs": [
        {
          "output_type": "stream",
          "name": "stdout",
          "text": [
            "O valor da raíz é: 5.9161\n",
            "O erro relativo foi: 0.0000\n",
            "O número de iterações realizadas foi: 6\n"
          ]
        }
      ]
    },
    {
      "cell_type": "markdown",
      "source": [
        "# Newton"
      ],
      "metadata": {
        "id": "dlqFbsGSe5Y7"
      }
    },
    {
      "cell_type": "code",
      "source": [
        "def df(x):\n",
        "  return 2 * x"
      ],
      "metadata": {
        "id": "Rkw2BOuHsAgD"
      },
      "execution_count": null,
      "outputs": []
    },
    {
      "cell_type": "code",
      "source": [
        "def newton(x0, n, erro, itMax):\n",
        "  it = 0\n",
        "  erro_relativo = 1\n",
        "  x = x0\n",
        "\n",
        "  while (erro_relativo >= erro and it < itMax):\n",
        "    xOld = x\n",
        "    x = x - f(x, n) / df(x)\n",
        "    erro_relativo = abs((x - xOld) / x)\n",
        "\n",
        "    it += 1\n",
        "\n",
        "  return (x, erro_relativo, it)"
      ],
      "metadata": {
        "id": "dz0Kli4Ke9vb"
      },
      "execution_count": null,
      "outputs": []
    },
    {
      "cell_type": "code",
      "source": [
        "x0 = 2\n",
        "n = 23\n",
        "erro = 10 ** -5\n",
        "itMax = 16\n",
        "\n",
        "res = newton(x0, n, erro, itMax)\n",
        "\n",
        "print(f\"O valor da raíz é: {res[0]:.4f}\")\n",
        "print(f\"O erro relativo foi: {res[1]:.4f}\")\n",
        "print(f\"O número de iterações realizadas foi: {res[2]}\")"
      ],
      "metadata": {
        "colab": {
          "base_uri": "https://localhost:8080/"
        },
        "id": "1HoZS-FDqfgF",
        "outputId": "b0d82e05-e709-4d5f-931c-de7cba66519a"
      },
      "execution_count": null,
      "outputs": [
        {
          "output_type": "stream",
          "name": "stdout",
          "text": [
            "O valor da raíz é: 4.7958\n",
            "O erro relativo foi: 0.0000\n",
            "O número de iterações realizadas foi: 5\n"
          ]
        }
      ]
    },
    {
      "cell_type": "markdown",
      "source": [
        "# Secante"
      ],
      "metadata": {
        "id": "wlshPxEce_dw"
      }
    },
    {
      "cell_type": "code",
      "source": [
        "def secante(x0, x1, n, erro, itMax):\n",
        "  it = 0\n",
        "  erro_relativo = 1\n",
        "  xa1 = x0\n",
        "  x = x1\n",
        "\n",
        "  while (erro_relativo >= erro and it < itMax):\n",
        "    xa2 = xa1\n",
        "    xa1 = x\n",
        "    x = xa1 - f(xa1, n) * (xa2 - xa1) / (f(xa2, n) - f(xa1, n))\n",
        "    erro_relativo = abs((x - xa1) / x)\n",
        "\n",
        "    it += 1\n",
        "\n",
        "  return (x, erro_relativo, it)"
      ],
      "metadata": {
        "id": "GyQAQ6iefBXS"
      },
      "execution_count": null,
      "outputs": []
    },
    {
      "cell_type": "code",
      "source": [
        "x0 = 2\n",
        "x1 = 5\n",
        "n = 17\n",
        "erro = 10 ** -5\n",
        "itMax = 16\n",
        "\n",
        "res = secante(x0, x1, n, erro, itMax)\n",
        "\n",
        "print(f\"O valor da raíz é: {res[0]:.4f}\")\n",
        "print(f\"O erro relativo foi: {res[1]:.4f}\")\n",
        "print(f\"O número de iterações realizadas foi: {res[2]}\")"
      ],
      "metadata": {
        "colab": {
          "base_uri": "https://localhost:8080/"
        },
        "id": "iDkOQvu3tg-2",
        "outputId": "ab5d8e51-379a-4b30-fe5a-b10ae4757b97"
      },
      "execution_count": null,
      "outputs": [
        {
          "output_type": "stream",
          "name": "stdout",
          "text": [
            "O valor da raíz é: 4.1231\n",
            "O erro relativo foi: 0.0000\n",
            "O número de iterações realizadas foi: 5\n"
          ]
        }
      ]
    }
  ]
}