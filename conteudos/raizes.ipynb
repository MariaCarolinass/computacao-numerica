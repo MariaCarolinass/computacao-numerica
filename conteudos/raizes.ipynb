{
  "nbformat": 4,
  "nbformat_minor": 0,
  "metadata": {
    "colab": {
      "provenance": [],
      "authorship_tag": "ABX9TyMTACAnVrlXOJsSijJJUzTR",
      "include_colab_link": true
    },
    "kernelspec": {
      "name": "python3",
      "display_name": "Python 3"
    },
    "language_info": {
      "name": "python"
    }
  },
  "cells": [
    {
      "cell_type": "markdown",
      "metadata": {
        "id": "view-in-github",
        "colab_type": "text"
      },
      "source": [
        "<a href=\"https://colab.research.google.com/github/MariaCarolinass/computacao-numerica/blob/main/raizes.ipynb\" target=\"_parent\"><img src=\"https://colab.research.google.com/assets/colab-badge.svg\" alt=\"Open In Colab\"/></a>"
      ]
    },
    {
      "cell_type": "markdown",
      "source": [
        "# Raízes da função"
      ],
      "metadata": {
        "id": "9H0OrQL-jK0T"
      }
    },
    {
      "cell_type": "markdown",
      "source": [
        "Podemos encontrar a raíz de uma função f(x) igualando ela a zero e resolvendo o seu x usando, por exemplo, bhaskara ou fatoração. Entretanto, existem funções na qual a sua solução não possuí um valor númerico definido da sua raíz, dessa forma, precisamos usar métodos númericos para encontrar o melhor valor possível aproximado da raíz da função."
      ],
      "metadata": {
        "id": "I6kU37Z0jLp6"
      }
    },
    {
      "cell_type": "markdown",
      "source": [
        "## Importações"
      ],
      "metadata": {
        "id": "z18I_91rz7Mq"
      }
    },
    {
      "cell_type": "code",
      "source": [
        "import numpy as np"
      ],
      "metadata": {
        "id": "ZUQyd-I5z_2c"
      },
      "execution_count": 1,
      "outputs": []
    },
    {
      "cell_type": "code",
      "source": [
        "import matplotlib.pyplot as plt"
      ],
      "metadata": {
        "id": "ojN_Pzmmz66y"
      },
      "execution_count": 2,
      "outputs": []
    },
    {
      "cell_type": "markdown",
      "source": [
        "## Função"
      ],
      "metadata": {
        "id": "6ho8rXi70Hjv"
      }
    },
    {
      "cell_type": "code",
      "source": [
        "v = 31\n",
        "g = 9.8\n",
        "c = 13\n",
        "t = 6\n",
        "\n",
        "def f(m):\n",
        "  return v - ((g * m) / c) * (1 - np.exp(-t * (c / m)))"
      ],
      "metadata": {
        "id": "uDNu0U2q0Jwd"
      },
      "execution_count": 3,
      "outputs": []
    },
    {
      "cell_type": "markdown",
      "source": [
        "Intervalos da função:"
      ],
      "metadata": {
        "id": "J1w5DbJK7q29"
      }
    },
    {
      "cell_type": "code",
      "source": [
        "a = 40\n",
        "b = 60"
      ],
      "metadata": {
        "id": "6IsmDQKt5TY4"
      },
      "execution_count": 4,
      "outputs": []
    },
    {
      "cell_type": "markdown",
      "source": [
        "Plotando o gráfico da função:"
      ],
      "metadata": {
        "id": "1by0hY7G72Rl"
      }
    },
    {
      "cell_type": "code",
      "source": [
        "m = np.arange(a, b, 1)\n",
        "plt.plot(m, f(m))\n",
        "plt.show()"
      ],
      "metadata": {
        "colab": {
          "base_uri": "https://localhost:8080/",
          "height": 430
        },
        "id": "GQcC0_Fr7v1e",
        "outputId": "e342e45c-2636-42c0-98f1-07f0cd7ba94c"
      },
      "execution_count": 5,
      "outputs": [
        {
          "output_type": "display_data",
          "data": {
            "text/plain": [
              "<Figure size 640x480 with 1 Axes>"
            ],
            "image/png": "[encoded data removed]"
          },
          "metadata": {}
        }
      ]
    },
    {
      "cell_type": "markdown",
      "source": [
        "Ao plotar o gráfico escolhemos os pontos de a e b para o intervalo, onde a função toca próximo do zero no eixo x."
      ],
      "metadata": {
        "id": "JQubJX3r8N-9"
      }
    },
    {
      "cell_type": "code",
      "source": [
        "# Novos intervalos a partir do gráfico\n",
        "a = 52\n",
        "b = 55"
      ],
      "metadata": {
        "id": "M7D49ml9ALb_"
      },
      "execution_count": 6,
      "outputs": []
    },
    {
      "cell_type": "markdown",
      "source": [
        "## Método da Bissecção"
      ],
      "metadata": {
        "id": "p9JYP3igzo5i"
      }
    },
    {
      "cell_type": "markdown",
      "source": [
        "O Método da Bissecção divide a função em pequena regiões de interesse, que são definidas a partir do ponto médio entre dois intervalos, onde possívelmente a raíz se encontra, até alcançar um valor que tenha um erro relativo menor que 10 elevado ao número da precisão negativo."
      ],
      "metadata": {
        "id": "EhwWTvyRz0c7"
      }
    },
    {
      "cell_type": "code",
      "source": [
        "def bisseccao(a, b, erro, itMax):\n",
        "  it = 0\n",
        "  erro_relativo = 1\n",
        "  m = a\n",
        "\n",
        "  while (erro_relativo >= erro and it < itMax):\n",
        "    mOld = m\n",
        "    m = (a + b) / 2\n",
        "    erro_relativo = abs((m - mOld) / m)\n",
        "\n",
        "    # Teste de Bolsano\n",
        "    if f(a) * f(m) < 0:\n",
        "      b = m\n",
        "    else:\n",
        "      a = m\n",
        "\n",
        "    it += 1\n",
        "\n",
        "  return (m, erro_relativo, it)"
      ],
      "metadata": {
        "id": "W8GwaPEi9mMl"
      },
      "execution_count": 19,
      "outputs": []
    },
    {
      "cell_type": "markdown",
      "source": [
        "Mostrando os resultados:"
      ],
      "metadata": {
        "id": "UzoLkn49Dbdd"
      }
    },
    {
      "cell_type": "code",
      "source": [
        "erro = 10 ** -4\n",
        "itMax = 6\n",
        "\n",
        "resultado = bisseccao(a, b, erro, itMax)\n",
        "\n",
        "print(\"O valor da raíz é: \", resultado[0])\n",
        "print(\"O erro relativo foi: \", resultado[1])\n",
        "print(\"O número de iterações realizadas foi: \", resultado[2])"
      ],
      "metadata": {
        "colab": {
          "base_uri": "https://localhost:8080/"
        },
        "id": "sn9uDLECBoQS",
        "outputId": "4cd72b47-026a-4211-b09a-3301fa1cc56b"
      },
      "execution_count": 8,
      "outputs": [
        {
          "output_type": "stream",
          "name": "stdout",
          "text": [
            "O valor da raíz é:  53.640625\n",
            "O erro relativo foi:  0.000873871249635887\n",
            "O número de iterações realizadas foi:  6\n"
          ]
        }
      ]
    },
    {
      "cell_type": "markdown",
      "source": [
        "## Método da Falsa Posição"
      ],
      "metadata": {
        "id": "iN3U3FFBHcGQ"
      }
    },
    {
      "cell_type": "markdown",
      "source": [
        "O Método da Falsa Posição funciona da mesma forma que o da Bissecção, porém com a diferença na forma como os intervalos de interesse são definidos. Ao invés de calcular o ponto médio entre dois intervalos, a falsa posição escolhe um valor, onde ao traçarmos uma reta tangente a dois intervalos, o valor será a posição que toca exatamente o ponto zero no eixo x."
      ],
      "metadata": {
        "id": "cjz2m0ohmvvN"
      }
    },
    {
      "cell_type": "code",
      "source": [
        "def falsa_posicao(a, b, erro, itMax):\n",
        "  it = 0\n",
        "  erro_relativo = 1\n",
        "  m = a\n",
        "\n",
        "  while (erro_relativo >= erro and it < itMax):\n",
        "    mOld = m\n",
        "    m = a - f(a) * (b - a) / (f(b) - f(a))\n",
        "    erro_relativo = abs((m - mOld) / m)\n",
        "\n",
        "    # Teste de Bolsano\n",
        "    if f(a) * f(m) < 0:\n",
        "      b = m\n",
        "    else:\n",
        "      a = m\n",
        "\n",
        "    it += 1\n",
        "\n",
        "  return (m, erro_relativo, it)"
      ],
      "metadata": {
        "id": "9qHcsjIAHfcg"
      },
      "execution_count": 20,
      "outputs": []
    },
    {
      "cell_type": "markdown",
      "source": [
        "Mostrando os resultados:"
      ],
      "metadata": {
        "id": "L8nOTDItmeBW"
      }
    },
    {
      "cell_type": "code",
      "source": [
        "erro = 10 ** -4\n",
        "itMax = 6\n",
        "\n",
        "resultado = falsa_posicao(a, b, erro, itMax)\n",
        "\n",
        "print(\"O valor da raíz é: \", resultado[0])\n",
        "print(\"O erro relativo foi: \", resultado[1])\n",
        "print(\"O número de iterações realizadas foi: \", resultado[2])"
      ],
      "metadata": {
        "colab": {
          "base_uri": "https://localhost:8080/"
        },
        "id": "cLT68CCQmiPR",
        "outputId": "4e9d316f-f9f9-466d-8418-512a36a511e8"
      },
      "execution_count": 10,
      "outputs": [
        {
          "output_type": "stream",
          "name": "stdout",
          "text": [
            "O valor da raíz é:  53.67009004580226\n",
            "O erro relativo foi:  7.879443884796175e-06\n",
            "O número de iterações realizadas foi:  3\n"
          ]
        }
      ]
    },
    {
      "cell_type": "markdown",
      "source": [
        "A falsa posição é mais eficiente que a bissecção, pois o resultado é um valor mais aproximado da raíz. Além de ter realizado menos interações para encontrar a raíz."
      ],
      "metadata": {
        "id": "LWr0kOKaCvH-"
      }
    },
    {
      "cell_type": "markdown",
      "source": [
        "## Método de Newton-Rapson"
      ],
      "metadata": {
        "id": "MNg68DpqDRbi"
      }
    },
    {
      "cell_type": "markdown",
      "source": [
        "No método de Rapson não é preciso utilizar intervalos para encontrar a raíz dentro de dois pontos. Nesse método é preciso somente de uma estimativa inicial próxima da região onde queremos encontrar a raiz. Partimos de um valor inicial e vamos aproximando esse valor traçando uma reta tangente na região de interesse até o ponto que toca x."
      ],
      "metadata": {
        "id": "TE7YIvYrLNTC"
      }
    },
    {
      "cell_type": "markdown",
      "source": [
        "Derivada da Função:"
      ],
      "metadata": {
        "id": "fCXYFlEJRbFd"
      }
    },
    {
      "cell_type": "code",
      "source": [
        "def df(m):\n",
        "  return np.exp(-78.0 / m) * (g / c + 58.8 / m) - g / c"
      ],
      "metadata": {
        "id": "E7D2f7FERaAa"
      },
      "execution_count": 11,
      "outputs": []
    },
    {
      "cell_type": "markdown",
      "source": [
        "Função de Newton-Rapson:"
      ],
      "metadata": {
        "id": "Xe9rMqagTIPT"
      }
    },
    {
      "cell_type": "code",
      "source": [
        "def newton(m0, erro, itMax):\n",
        "  it = 0\n",
        "  erro_relativo = 1\n",
        "  m = m0\n",
        "\n",
        "  while (erro_relativo >= erro and it < itMax):\n",
        "    mOld = m\n",
        "    m = m - f(m) / df(m)\n",
        "    erro_relativo = abs((m - mOld) / m)\n",
        "\n",
        "    it += 1\n",
        "\n",
        "  return (m, erro_relativo, it)"
      ],
      "metadata": {
        "id": "r6XpAGFePybS"
      },
      "execution_count": 21,
      "outputs": []
    },
    {
      "cell_type": "markdown",
      "source": [
        "Mostrando os resultados:"
      ],
      "metadata": {
        "id": "Sog4gNSTUIUB"
      }
    },
    {
      "cell_type": "code",
      "source": [
        "m0 = 54\n",
        "erro = 10 ** -4\n",
        "itMax = 6\n",
        "\n",
        "resultado = newton(m0, erro, itMax)\n",
        "\n",
        "print(\"O valor da raíz é: \", resultado[0])\n",
        "print(\"O erro relativo foi: \", resultado[1])\n",
        "print(\"O número de iterações realizadas foi: \", resultado[2])"
      ],
      "metadata": {
        "colab": {
          "base_uri": "https://localhost:8080/"
        },
        "id": "YNyddCzuUI0C",
        "outputId": "db02d494-c284-4086-bec4-1afa9338f547"
      },
      "execution_count": 22,
      "outputs": [
        {
          "output_type": "stream",
          "name": "stdout",
          "text": [
            "O valor da raíz é:  53.670082287970615\n",
            "O erro relativo foi:  2.189532833766564e-05\n",
            "O número de iterações realizadas foi:  2\n"
          ]
        }
      ]
    },
    {
      "cell_type": "markdown",
      "source": [
        "Esse método foi mais eficiente que o da Bissecção e Falsa Posição. No método de Newton alcançamos uma estimativa numérica com apenas 2 interações."
      ],
      "metadata": {
        "id": "6G0cfsMvUp6j"
      }
    },
    {
      "cell_type": "markdown",
      "source": [
        "## Método da Secante"
      ],
      "metadata": {
        "id": "1M1FtpDWDWAO"
      }
    },
    {
      "cell_type": "markdown",
      "source": [
        "O Método da Secante é uma alternativa ao Método de Newton para que não seja preciso determinar a derivada da função. Esse método é uma pequena modificação na função de newton, porém na função da secante precisamos de duas estimativas iniciais. Para chegar na raiz, usamos uma reta secante como aproximação da reta tangente até chegar ao ponto que toca x.    "
      ],
      "metadata": {
        "id": "8BzrpyhMVnwK"
      }
    },
    {
      "cell_type": "code",
      "source": [
        "def secante(m0, m1, erro, itMax):\n",
        "  it = 0\n",
        "  erro_relativo = 1\n",
        "  ma1 = m0\n",
        "  m = m1\n",
        "\n",
        "  while (erro_relativo >= erro and it < itMax):\n",
        "    ma2 = ma1\n",
        "    ma1 = m\n",
        "    m = ma1 - f(ma1) * (ma2 - ma1) / (f(ma2) - f(ma1))\n",
        "    erro_relativo = abs((m - ma1) / m)\n",
        "\n",
        "    it += 1\n",
        "\n",
        "  return (m, erro_relativo, it)"
      ],
      "metadata": {
        "id": "-UUDP7VuVdOh"
      },
      "execution_count": 23,
      "outputs": []
    },
    {
      "cell_type": "markdown",
      "source": [
        "Mostrando os resultados:"
      ],
      "metadata": {
        "id": "5ezydjjiXhj9"
      }
    },
    {
      "cell_type": "code",
      "source": [
        "x0 = 54\n",
        "x1 = 55\n",
        "erro = 10 ** -4\n",
        "itMax = 6\n",
        "\n",
        "resultado = secante(x0, x1, erro, itMax)\n",
        "\n",
        "print(\"O valor da raíz é: \", resultado[0])\n",
        "print(\"O erro relativo foi: \", resultado[1])\n",
        "print(\"O número de iterações realizadas foi: \", resultado[2])"
      ],
      "metadata": {
        "colab": {
          "base_uri": "https://localhost:8080/"
        },
        "id": "bk76-94UXg2U",
        "outputId": "ec2608c3-4875-474f-eb37-a989b892a97d"
      },
      "execution_count": 24,
      "outputs": [
        {
          "output_type": "stream",
          "name": "stdout",
          "text": [
            "O valor da raíz é:  53.670150448575974\n",
            "O erro relativo foi:  8.963342741959718e-05\n",
            "O número de iterações realizadas foi:  2\n"
          ]
        }
      ]
    },
    {
      "cell_type": "markdown",
      "source": [
        "O método de Newton foi mais eficiente que o da Secante, pois a função newton retornou um erro relativo menor que a função secante."
      ],
      "metadata": {
        "id": "Uqz1fg9sX9OF"
      }
    }
  ]
}