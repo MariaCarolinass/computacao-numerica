{
 "cells": [
  {
   "cell_type": "code",
   "execution_count": 42,
   "id": "f0acf983-76ab-45f5-9132-7f857463e6b7",
   "metadata": {},
   "outputs": [],
   "source": [
    "import numpy as np"
   ]
  },
  {
   "cell_type": "code",
   "execution_count": 43,
   "id": "e5e9349d-2c85-47c4-8d5a-93409e656980",
   "metadata": {},
   "outputs": [],
   "source": [
    "def f(x):\n",
    "    return 5 * x ** 2"
   ]
  },
  {
   "cell_type": "code",
   "execution_count": 44,
   "id": "e2b4a105-4aad-487e-b829-9b300b99245f",
   "metadata": {},
   "outputs": [],
   "source": [
    "def bisseccao(a, b, tolerancia, itMax):\n",
    "    x = a\n",
    "    erroRel = 1\n",
    "    it = 0\n",
    "    \n",
    "    while erroRel >= tolerancia and it < itMax:\n",
    "        xAnt = x\n",
    "        x = (a + b) / 2\n",
    "        erroRel = np.abs((x - xAnt) / x)\n",
    "        \n",
    "        if f(a) * f(x) < 0:\n",
    "            b = x\n",
    "        else:\n",
    "            a = x\n",
    "            \n",
    "        it += 1\n",
    "    \n",
    "    return x, erroRel, it"
   ]
  },
  {
   "cell_type": "code",
   "execution_count": 45,
   "id": "61708a6a-423d-42d1-b8b6-df1c249f4e34",
   "metadata": {},
   "outputs": [],
   "source": [
    "def falsaposicao(a, b, tolerancia, itMax):\n",
    "    x = a\n",
    "    erroRel = 1\n",
    "    it = 0\n",
    "    \n",
    "    while erroRel >= tolerancia and it < itMax:\n",
    "        xAnt = x\n",
    "        x = a - f(a) * (b - a) / (f(b) - f(a))\n",
    "        erroRel = np.abs((x - xAnt) / x)\n",
    "        \n",
    "        if f(a) * f(x) < 0:\n",
    "            b = x\n",
    "        else:\n",
    "            a = x\n",
    "            \n",
    "        it += 1\n",
    "        \n",
    "    return x, erroRel, it"
   ]
  },
  {
   "cell_type": "code",
   "execution_count": 46,
   "id": "8c0dd147-cd1e-463f-afd6-f71fb3eb839e",
   "metadata": {},
   "outputs": [],
   "source": [
    "def f1(x):\n",
    "    return 10 * x\n",
    "\n",
    "def newton(x0, tolerancia, itMax):\n",
    "    x = x0\n",
    "    it = 0\n",
    "    erroRel = 1\n",
    "    \n",
    "    while erroRel >= tolerancia and it < itMax:\n",
    "        xAnt = x\n",
    "        x = xAnt - f(xAnt) / f1(xAnt)\n",
    "        erroRel = np.abs((x - xAnt) / x)\n",
    "        it += 1\n",
    "        \n",
    "    return x, erroRel, it"
   ]
  },
  {
   "cell_type": "code",
   "execution_count": 47,
   "id": "c7a0eae7-ab7f-446b-948e-5b522f6c01b0",
   "metadata": {},
   "outputs": [],
   "source": [
    "def secante(x0, x1, tolerancia, itMax):\n",
    "    it = 0\n",
    "    erroRel = 1\n",
    "    \n",
    "    xAnt = x0\n",
    "    x = x1\n",
    "    \n",
    "    while erroRel >= tolerancia and it < itMax:\n",
    "        xOld = xAnt\n",
    "        xAnt = x\n",
    "        \n",
    "        x = xAnt - f(xAnt) * (xOld - xAnt) / (f(xOld) - f(xAnt))\n",
    "        erroRel = np.abs((x - xAnt) / x)\n",
    "        \n",
    "        it += 1\n",
    "    \n",
    "    return x, erroRel, it"
   ]
  }
 ],
 "metadata": {
  "kernelspec": {
   "display_name": "Python 3",
   "language": "python",
   "name": "python3"
  },
  "language_info": {
   "codemirror_mode": {
    "name": "ipython",
    "version": 3
   },
   "file_extension": ".py",
   "mimetype": "text/x-python",
   "name": "python",
   "nbconvert_exporter": "python",
   "pygments_lexer": "ipython3",
   "version": "3.6.8"
  }
 },
 "nbformat": 4,
 "nbformat_minor": 5
}
