{
 "cells": [
  {
   "cell_type": "code",
   "execution_count": 30,
   "id": "683dc4bc-e405-4547-8c00-56d49b6ede81",
   "metadata": {},
   "outputs": [],
   "source": [
    "import numpy as np"
   ]
  },
  {
   "cell_type": "code",
   "execution_count": 31,
   "id": "c41fbbf2-a589-41ed-97f7-36239cd3837a",
   "metadata": {},
   "outputs": [],
   "source": [
    "def f(x):\n",
    "    return 12.3 * np.sin(x) * np.exp(-x) - 1\n",
    "\n",
    "def f1(x):\n",
    "    return (-123 * np.sin(x) + 123 * np.cos(x)) / 10 * np.exp(x)"
   ]
  },
  {
   "cell_type": "code",
   "execution_count": 32,
   "id": "14d95e96-1330-49f9-a0c5-1c9cf0e59b27",
   "metadata": {},
   "outputs": [],
   "source": [
    "def newton(x0, erro, ItMax):\n",
    "    x = x0\n",
    "    it = 0\n",
    "    erroRel = 1\n",
    "    \n",
    "    while erroRel >= erro and it < ItMax:\n",
    "        xOld = x\n",
    "        x = x - f(x) / f1(x)\n",
    "        \n",
    "        erroRel = np.abs((x - xOld) / x)\n",
    "        \n",
    "        it += 1\n",
    "        \n",
    "    return x, erroRel, it"
   ]
  },
  {
   "cell_type": "code",
   "execution_count": 33,
   "id": "a8d51ff4-719e-46ca-8c44-c35f51b7ea9c",
   "metadata": {},
   "outputs": [
    {
     "name": "stdout",
     "output_type": "stream",
     "text": [
      "0.0890\n",
      "0.0004762013161803051\n",
      "4\n"
     ]
    }
   ],
   "source": [
    "x, erroRel, it = newton(0.1, 10 ** -4, 4)\n",
    "print(f'{x:.4f}')\n",
    "print(erroRel)\n",
    "print(it)"
   ]
  },
  {
   "cell_type": "code",
   "execution_count": null,
   "id": "f46460a7-e7e9-419f-98f1-5afe5f5ac791",
   "metadata": {},
   "outputs": [],
   "source": []
  }
 ],
 "metadata": {
  "kernelspec": {
   "display_name": "Python 3",
   "language": "python",
   "name": "python3"
  },
  "language_info": {
   "codemirror_mode": {
    "name": "ipython",
    "version": 3
   },
   "file_extension": ".py",
   "mimetype": "text/x-python",
   "name": "python",
   "nbconvert_exporter": "python",
   "pygments_lexer": "ipython3",
   "version": "3.6.8"
  }
 },
 "nbformat": 4,
 "nbformat_minor": 5
}
