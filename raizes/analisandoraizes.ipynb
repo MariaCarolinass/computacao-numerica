{
 "cells": [
  {
   "cell_type": "markdown",
   "metadata": {
    "colab_type": "text",
    "id": "view-in-github"
   },
   "source": [
    "<a href=\"https://colab.research.google.com/github/MariaCarolinass/computacao-numerica/blob/main/analisandoraizes.ipynb\" target=\"_parent\"><img src=\"https://colab.research.google.com/assets/colab-badge.svg\" alt=\"Open In Colab\"/></a>"
   ]
  },
  {
   "cell_type": "code",
   "execution_count": null,
   "metadata": {
    "id": "perYg6V4dg-B"
   },
   "outputs": [],
   "source": [
    "import numpy as np"
   ]
  },
  {
   "cell_type": "code",
   "execution_count": null,
   "metadata": {
    "id": "ZUAebjOkdkIG"
   },
   "outputs": [],
   "source": [
    "import matplotlib.pyplot as plt"
   ]
  },
  {
   "cell_type": "markdown",
   "metadata": {
    "id": "-vK7qDFsoahH"
   },
   "source": [
    "Função para análise de uma raiz n:"
   ]
  },
  {
   "cell_type": "code",
   "execution_count": null,
   "metadata": {
    "id": "iwaxPYsPd5VV"
   },
   "outputs": [],
   "source": [
    "def f(x, n):\n",
    "  return x ** 2 - n"
   ]
  },
  {
   "cell_type": "markdown",
   "metadata": {
    "id": "WQ5xkIHuonos"
   },
   "source": [
    "Função para conferir o gráfico:"
   ]
  },
  {
   "cell_type": "code",
   "execution_count": null,
   "metadata": {
    "id": "HgXpa7y9gphu"
   },
   "outputs": [],
   "source": [
    "def plotar_grafico(a, b, n):\n",
    "  x = np.arange(a, b, 1)\n",
    "  plt.plot(x, f(x, n))\n",
    "  plt.show()"
   ]
  },
  {
   "cell_type": "markdown",
   "metadata": {
    "id": "87azmrJodc3p"
   },
   "source": [
    "# Bissecção"
   ]
  },
  {
   "cell_type": "code",
   "execution_count": null,
   "metadata": {
    "colab": {
     "base_uri": "https://localhost:8080/"
    },
    "id": "KW-uovncc6-y",
    "outputId": "f67e4795-2ad2-47da-917c-348012110f9f"
   },
   "outputs": [
    {
     "name": "stdout",
     "output_type": "stream",
     "text": [
      "O valor da raíz é: 3.7417\n",
      "O erro relativo foi: 0.0000\n",
      "O número de iterações realizadas foi: 16\n"
     ]
    }
   ],
   "source": [
    "def bisseccao(a, b, n, erro, itMax):\n",
    "  it = 0\n",
    "  erro_relativo = 1\n",
    "  x = a\n",
    "\n",
    "  while (erro_relativo >= erro and it < itMax):\n",
    "    xOld = x\n",
    "    x = (a + b) / 2\n",
    "    erro_relativo = abs((x - xOld) / x)\n",
    "\n",
    "    if f(a, n) * f(x, n) < 0:\n",
    "      b = x\n",
    "    else:\n",
    "      a = x\n",
    "\n",
    "    it += 1\n",
    "\n",
    "  return (x, erro_relativo, it)\n",
    "\n",
    "# plotar_grafico(2, 5, 14)\n",
    "\n",
    "a = 2\n",
    "b = 5\n",
    "n = 14\n",
    "erro = 10 ** -5\n",
    "itMax = 16\n",
    "\n",
    "res = bisseccao(a, b, n, erro, itMax)\n",
    "\n",
    "print(f\"O valor da raíz é: {res[0]:.4f}\")\n",
    "print(f\"O erro relativo foi: {res[1]:.4f}\")\n",
    "print(f\"O número de iterações realizadas foi: {res[2]}\")"
   ]
  },
  {
   "cell_type": "markdown",
   "metadata": {
    "id": "cpYuUyuWexxM"
   },
   "source": [
    "# Falsa Posição"
   ]
  },
  {
   "cell_type": "code",
   "execution_count": null,
   "metadata": {
    "colab": {
     "base_uri": "https://localhost:8080/"
    },
    "id": "cAwto6wBe0jR",
    "outputId": "3ca7e3e0-fc42-489a-cd54-d59a650ac58b"
   },
   "outputs": [
    {
     "name": "stdout",
     "output_type": "stream",
     "text": [
      "O valor da raíz é: 5.9161\n",
      "O erro relativo foi: 0.0000\n",
      "O número de iterações realizadas foi: 6\n"
     ]
    }
   ],
   "source": [
    "def falsa_posicao(a, b, n, erro, itMax):\n",
    "  it = 0\n",
    "  erro_relativo = 1\n",
    "  x = a\n",
    "\n",
    "  while (erro_relativo >= erro and it < itMax):\n",
    "    xOld = x\n",
    "    x = a - f(a, n) * (b - a) / (f(b, n) - f(a, n))\n",
    "    erro_relativo = abs((x - xOld) / x)\n",
    "\n",
    "    if f(a, n) * f(x, n) < 0:\n",
    "      b = x\n",
    "    else:\n",
    "      a = x\n",
    "\n",
    "    it += 1\n",
    "\n",
    "  return (x, erro_relativo, it)\n",
    "\n",
    "a = 2\n",
    "b = 5\n",
    "n = 35\n",
    "erro = 10 ** -5\n",
    "itMax = 16\n",
    "\n",
    "res = falsa_posicao(a, b, n, erro, itMax)\n",
    "\n",
    "print(f\"O valor da raíz é: {res[0]:.4f}\")\n",
    "print(f\"O erro relativo foi: {res[1]:.4f}\")\n",
    "print(f\"O número de iterações realizadas foi: {res[2]}\")"
   ]
  },
  {
   "cell_type": "markdown",
   "metadata": {
    "id": "dlqFbsGSe5Y7"
   },
   "source": [
    "# Newton"
   ]
  },
  {
   "cell_type": "code",
   "execution_count": null,
   "metadata": {
    "colab": {
     "base_uri": "https://localhost:8080/"
    },
    "id": "dz0Kli4Ke9vb",
    "outputId": "929cd784-1c65-402f-ebb0-e5da24427340"
   },
   "outputs": [
    {
     "name": "stdout",
     "output_type": "stream",
     "text": [
      "O valor da raíz é: 4.7958\n",
      "O erro relativo foi: 0.0000\n",
      "O número de iterações realizadas foi: 5\n"
     ]
    }
   ],
   "source": [
    "def df(x):\n",
    "  return 2 * x\n",
    "\n",
    "def newton(x0, n, erro, itMax):\n",
    "  it = 0\n",
    "  erro_relativo = 1\n",
    "  x = x0\n",
    "\n",
    "  while (erro_relativo >= erro and it < itMax):\n",
    "    xOld = x\n",
    "    x = x - f(x, n) / df(x)\n",
    "    erro_relativo = abs((x - xOld) / x)\n",
    "\n",
    "    it += 1\n",
    "\n",
    "  return (x, erro_relativo, it)\n",
    "\n",
    "x0 = 2\n",
    "n = 23\n",
    "erro = 10 ** -5\n",
    "itMax = 16\n",
    "\n",
    "res = newton(x0, n, erro, itMax)\n",
    "\n",
    "print(f\"O valor da raíz é: {res[0]:.4f}\")\n",
    "print(f\"O erro relativo foi: {res[1]:.4f}\")\n",
    "print(f\"O número de iterações realizadas foi: {res[2]}\")"
   ]
  },
  {
   "cell_type": "markdown",
   "metadata": {
    "id": "wlshPxEce_dw"
   },
   "source": [
    "# Secante"
   ]
  },
  {
   "cell_type": "code",
   "execution_count": null,
   "metadata": {
    "colab": {
     "base_uri": "https://localhost:8080/"
    },
    "id": "GyQAQ6iefBXS",
    "outputId": "973eb58e-eb1d-4cf7-dfdb-63dbc01df622"
   },
   "outputs": [
    {
     "name": "stdout",
     "output_type": "stream",
     "text": [
      "O valor da raíz é: 4.1231\n",
      "O erro relativo foi: 0.0000\n",
      "O número de iterações realizadas foi: 5\n"
     ]
    }
   ],
   "source": [
    "def secante(x0, x1, n, erro, itMax):\n",
    "  it = 0\n",
    "  erro_relativo = 1\n",
    "  xa1 = x0\n",
    "  x = x1\n",
    "\n",
    "  while (erro_relativo >= erro and it < itMax):\n",
    "    xa2 = xa1\n",
    "    xa1 = x\n",
    "    x = xa1 - f(xa1, n) * (xa2 - xa1) / (f(xa2, n) - f(xa1, n))\n",
    "    erro_relativo = abs((x - xa1) / x)\n",
    "\n",
    "    it += 1\n",
    "\n",
    "  return (x, erro_relativo, it)\n",
    "\n",
    "x0 = 2\n",
    "x1 = 5\n",
    "n = 17\n",
    "erro = 10 ** -5\n",
    "itMax = 16\n",
    "\n",
    "res = secante(x0, x1, n, erro, itMax)\n",
    "\n",
    "print(f\"O valor da raíz é: {res[0]:.4f}\")\n",
    "print(f\"O erro relativo foi: {res[1]:.4f}\")\n",
    "print(f\"O número de iterações realizadas foi: {res[2]}\")"
   ]
  }
 ],
 "metadata": {
  "colab": {
   "authorship_tag": "ABX9TyNaOnAiPLAQ3LhF6f20qsdB",
   "include_colab_link": true,
   "provenance": []
  },
  "kernelspec": {
   "display_name": "Python 3",
   "language": "python",
   "name": "python3"
  },
  "language_info": {
   "codemirror_mode": {
    "name": "ipython",
    "version": 3
   },
   "file_extension": ".py",
   "mimetype": "text/x-python",
   "name": "python",
   "nbconvert_exporter": "python",
   "pygments_lexer": "ipython3",
   "version": "3.6.8"
  }
 },
 "nbformat": 4,
 "nbformat_minor": 1
}
