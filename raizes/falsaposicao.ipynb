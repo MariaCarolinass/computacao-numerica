{
 "cells": [
  {
   "cell_type": "code",
   "execution_count": 53,
   "id": "6b97b71b-f4b0-4713-b80d-347d837f57c1",
   "metadata": {},
   "outputs": [],
   "source": [
    "import numpy as np"
   ]
  },
  {
   "cell_type": "code",
   "execution_count": 54,
   "id": "d3f515b3-fed1-439c-8840-d1ac0a95dedf",
   "metadata": {},
   "outputs": [],
   "source": [
    "def f(w):\n",
    "    return (1 / 73) ** 2 - (1 / 229 ** 2 + (w * (0.5 * 10 ** -6) - 1 / (w * 0.5)) ** 2)"
   ]
  },
  {
   "cell_type": "code",
   "execution_count": 55,
   "id": "7f627899-15c0-4ce4-b532-27fb308a55ab",
   "metadata": {},
   "outputs": [],
   "source": [
    "def falsaposicao(a, b, erro, itMax):\n",
    "    w = a\n",
    "    erroRel = 1\n",
    "    it = 0\n",
    "    \n",
    "    while (erroRel >= erro and it < itMax):\n",
    "        wOld = w\n",
    "        w = a - f(a) * (b - a) / (f(b) - f(a))\n",
    "        \n",
    "        erroRel = np.abs((w - wOld) / w)\n",
    "        \n",
    "        if f(a) * f(w) < 0:\n",
    "            b = w\n",
    "        else:\n",
    "            a = w\n",
    "        \n",
    "        it += 1\n",
    "        \n",
    "    return w, erroRel, it"
   ]
  },
  {
   "cell_type": "code",
   "execution_count": 58,
   "id": "181fbb7a-6db4-4a24-be83-445aab93c154",
   "metadata": {},
   "outputs": [
    {
     "name": "stdout",
     "output_type": "stream",
     "text": [
      "154.453\n",
      "0.00907319564706019\n",
      "5\n"
     ]
    }
   ],
   "source": [
    "w, erroRel, it = falsaposicao(100, 200, 10 ** -2, 5)\n",
    "print(f\"{w:.3f}\")\n",
    "print(f\"{erroRel}\")\n",
    "print(f\"{it}\")"
   ]
  },
  {
   "cell_type": "code",
   "execution_count": null,
   "id": "b6936508-38a7-455c-8788-0364f889b348",
   "metadata": {},
   "outputs": [],
   "source": []
  }
 ],
 "metadata": {
  "kernelspec": {
   "display_name": "Python 3",
   "language": "python",
   "name": "python3"
  },
  "language_info": {
   "codemirror_mode": {
    "name": "ipython",
    "version": 3
   },
   "file_extension": ".py",
   "mimetype": "text/x-python",
   "name": "python",
   "nbconvert_exporter": "python",
   "pygments_lexer": "ipython3",
   "version": "3.6.8"
  }
 },
 "nbformat": 4,
 "nbformat_minor": 5
}
