{
 "cells": [
  {
   "cell_type": "code",
   "execution_count": 28,
   "id": "aec640c1-e6c2-422f-839f-a282c67d5eb0",
   "metadata": {},
   "outputs": [],
   "source": [
    "import numpy as np"
   ]
  },
  {
   "cell_type": "code",
   "execution_count": 29,
   "id": "08f12400-945e-4335-89e5-9fe2dd90dfbd",
   "metadata": {},
   "outputs": [],
   "source": [
    "def f(x):\n",
    "    return -4 * x ** 4 - 4 * x ** 2 + 2 * x + 6"
   ]
  },
  {
   "cell_type": "code",
   "execution_count": 30,
   "id": "f7e504b4-c31e-45df-a163-ec24a2e711c8",
   "metadata": {},
   "outputs": [],
   "source": [
    "def bissecao(a, b, erro, itMax):\n",
    "    x = a\n",
    "    erro_relativo = 1\n",
    "    itCount = 0\n",
    "    \n",
    "    while(erro_relativo >= erro and itCount < itMax):\n",
    "        xOld = x\n",
    "        x = (a + b) / 2\n",
    "        erro_relativo = np.abs((x - xOld) / x)\n",
    "        \n",
    "        if f(a) * f(x) < 0:\n",
    "            b = x\n",
    "        else:\n",
    "            a = x\n",
    "            \n",
    "        itCount += 1\n",
    "        \n",
    "    return x, erro_relativo, itCount"
   ]
  },
  {
   "cell_type": "code",
   "execution_count": 31,
   "id": "70f7e8d1-8007-4997-bdb9-d5d23c75410b",
   "metadata": {},
   "outputs": [
    {
     "name": "stdout",
     "output_type": "stream",
     "text": [
      "Raíz: 1.9375\n",
      "Erro relativo: 0.0323\n",
      "Total de Interações: 5\n"
     ]
    }
   ],
   "source": [
    "x, erroRel, totalIt = bissecao(0, 2, 10 ** -4, 5)\n",
    "print(f\"Raíz: {x}\")\n",
    "print(f\"Erro relativo: {erroRel:.4f}\")\n",
    "print(f\"Total de Interações: {totalIt}\")"
   ]
  },
  {
   "cell_type": "code",
   "execution_count": null,
   "id": "00e3c8fa-6710-4fe0-b6d7-ac522ecc0f00",
   "metadata": {},
   "outputs": [],
   "source": []
  }
 ],
 "metadata": {
  "kernelspec": {
   "display_name": "Python 3",
   "language": "python",
   "name": "python3"
  },
  "language_info": {
   "codemirror_mode": {
    "name": "ipython",
    "version": 3
   },
   "file_extension": ".py",
   "mimetype": "text/x-python",
   "name": "python",
   "nbconvert_exporter": "python",
   "pygments_lexer": "ipython3",
   "version": "3.6.8"
  }
 },
 "nbformat": 4,
 "nbformat_minor": 5
}
