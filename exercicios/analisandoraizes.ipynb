{
  "nbformat": 4,
  "nbformat_minor": 0,
  "metadata": {
    "colab": {
      "provenance": [],
      "authorship_tag": "ABX9TyNaOnAiPLAQ3LhF6f20qsdB",
      "include_colab_link": true
    },
    "kernelspec": {
      "name": "python3",
      "display_name": "Python 3"
    },
    "language_info": {
      "name": "python"
    }
  },
  "cells": [
    {
      "cell_type": "markdown",
      "metadata": {
        "id": "view-in-github",
        "colab_type": "text"
      },
      "source": [
        "<a href=\"https://colab.research.google.com/github/MariaCarolinass/computacao-numerica/blob/main/analisandoraizes.ipynb\" target=\"_parent\"><img src=\"https://colab.research.google.com/assets/colab-badge.svg\" alt=\"Open In Colab\"/></a>"
      ]
    },
    {
      "cell_type": "code",
      "source": [
        "import numpy as np"
      ],
      "metadata": {
        "id": "perYg6V4dg-B"
      },
      "execution_count": null,
      "outputs": []
    },
    {
      "cell_type": "code",
      "source": [
        "import matplotlib.pyplot as plt"
      ],
      "metadata": {
        "id": "ZUAebjOkdkIG"
      },
      "execution_count": null,
      "outputs": []
    },
    {
      "cell_type": "markdown",
      "source": [
        "Função para análise de uma raiz n:"
      ],
      "metadata": {
        "id": "-vK7qDFsoahH"
      }
    },
    {
      "cell_type": "code",
      "source": [
        "def f(x, n):\n",
        "  return x ** 2 - n"
      ],
      "metadata": {
        "id": "iwaxPYsPd5VV"
      },
      "execution_count": null,
      "outputs": []
    },
    {
      "cell_type": "markdown",
      "source": [
        "Função para conferir o gráfico:"
      ],
      "metadata": {
        "id": "WQ5xkIHuonos"
      }
    },
    {
      "cell_type": "code",
      "source": [
        "def plotar_grafico(a, b, n):\n",
        "  x = np.arange(a, b, 1)\n",
        "  plt.plot(x, f(x, n))\n",
        "  plt.show()"
      ],
      "metadata": {
        "id": "HgXpa7y9gphu"
      },
      "execution_count": null,
      "outputs": []
    },
    {
      "cell_type": "markdown",
      "source": [
        "# Bissecção"
      ],
      "metadata": {
        "id": "87azmrJodc3p"
      }
    },
    {
      "cell_type": "code",
      "execution_count": null,
      "metadata": {
        "id": "KW-uovncc6-y",
        "colab": {
          "base_uri": "https://localhost:8080/"
        },
        "outputId": "f67e4795-2ad2-47da-917c-348012110f9f"
      },
      "outputs": [
        {
          "output_type": "stream",
          "name": "stdout",
          "text": [
            "O valor da raíz é: 3.7417\n",
            "O erro relativo foi: 0.0000\n",
            "O número de iterações realizadas foi: 16\n"
          ]
        }
      ],
      "source": [
        "def bisseccao(a, b, n, erro, itMax):\n",
        "  it = 0\n",
        "  erro_relativo = 1\n",
        "  x = a\n",
        "\n",
        "  while (erro_relativo >= erro and it < itMax):\n",
        "    xOld = x\n",
        "    x = (a + b) / 2\n",
        "    erro_relativo = abs((x - xOld) / x)\n",
        "\n",
        "    if f(a, n) * f(x, n) < 0:\n",
        "      b = x\n",
        "    else:\n",
        "      a = x\n",
        "\n",
        "    it += 1\n",
        "\n",
        "  return (x, erro_relativo, it)\n",
        "\n",
        "# plotar_grafico(2, 5, 14)\n",
        "\n",
        "a = 2\n",
        "b = 5\n",
        "n = 14\n",
        "erro = 10 ** -5\n",
        "itMax = 16\n",
        "\n",
        "res = bisseccao(a, b, n, erro, itMax)\n",
        "\n",
        "print(f\"O valor da raíz é: {res[0]:.4f}\")\n",
        "print(f\"O erro relativo foi: {res[1]:.4f}\")\n",
        "print(f\"O número de iterações realizadas foi: {res[2]}\")"
      ]
    },
    {
      "cell_type": "markdown",
      "source": [
        "# Falsa Posição"
      ],
      "metadata": {
        "id": "cpYuUyuWexxM"
      }
    },
    {
      "cell_type": "code",
      "source": [
        "def falsa_posicao(a, b, n, erro, itMax):\n",
        "  it = 0\n",
        "  erro_relativo = 1\n",
        "  x = a\n",
        "\n",
        "  while (erro_relativo >= erro and it < itMax):\n",
        "    xOld = x\n",
        "    x = a - f(a, n) * (b - a) / (f(b, n) - f(a, n))\n",
        "    erro_relativo = abs((x - xOld) / x)\n",
        "\n",
        "    if f(a, n) * f(x, n) < 0:\n",
        "      b = x\n",
        "    else:\n",
        "      a = x\n",
        "\n",
        "    it += 1\n",
        "\n",
        "  return (x, erro_relativo, it)\n",
        "\n",
        "a = 2\n",
        "b = 5\n",
        "n = 35\n",
        "erro = 10 ** -5\n",
        "itMax = 16\n",
        "\n",
        "res = falsa_posicao(a, b, n, erro, itMax)\n",
        "\n",
        "print(f\"O valor da raíz é: {res[0]:.4f}\")\n",
        "print(f\"O erro relativo foi: {res[1]:.4f}\")\n",
        "print(f\"O número de iterações realizadas foi: {res[2]}\")"
      ],
      "metadata": {
        "id": "cAwto6wBe0jR",
        "colab": {
          "base_uri": "https://localhost:8080/"
        },
        "outputId": "3ca7e3e0-fc42-489a-cd54-d59a650ac58b"
      },
      "execution_count": null,
      "outputs": [
        {
          "output_type": "stream",
          "name": "stdout",
          "text": [
            "O valor da raíz é: 5.9161\n",
            "O erro relativo foi: 0.0000\n",
            "O número de iterações realizadas foi: 6\n"
          ]
        }
      ]
    },
    {
      "cell_type": "markdown",
      "source": [
        "# Newton"
      ],
      "metadata": {
        "id": "dlqFbsGSe5Y7"
      }
    },
    {
      "cell_type": "code",
      "source": [
        "def df(x):\n",
        "  return 2 * x\n",
        "\n",
        "def newton(x0, n, erro, itMax):\n",
        "  it = 0\n",
        "  erro_relativo = 1\n",
        "  x = x0\n",
        "\n",
        "  while (erro_relativo >= erro and it < itMax):\n",
        "    xOld = x\n",
        "    x = x - f(x, n) / df(x)\n",
        "    erro_relativo = abs((x - xOld) / x)\n",
        "\n",
        "    it += 1\n",
        "\n",
        "  return (x, erro_relativo, it)\n",
        "\n",
        "x0 = 2\n",
        "n = 23\n",
        "erro = 10 ** -5\n",
        "itMax = 16\n",
        "\n",
        "res = newton(x0, n, erro, itMax)\n",
        "\n",
        "print(f\"O valor da raíz é: {res[0]:.4f}\")\n",
        "print(f\"O erro relativo foi: {res[1]:.4f}\")\n",
        "print(f\"O número de iterações realizadas foi: {res[2]}\")"
      ],
      "metadata": {
        "id": "dz0Kli4Ke9vb",
        "colab": {
          "base_uri": "https://localhost:8080/"
        },
        "outputId": "929cd784-1c65-402f-ebb0-e5da24427340"
      },
      "execution_count": null,
      "outputs": [
        {
          "output_type": "stream",
          "name": "stdout",
          "text": [
            "O valor da raíz é: 4.7958\n",
            "O erro relativo foi: 0.0000\n",
            "O número de iterações realizadas foi: 5\n"
          ]
        }
      ]
    },
    {
      "cell_type": "markdown",
      "source": [
        "# Secante"
      ],
      "metadata": {
        "id": "wlshPxEce_dw"
      }
    },
    {
      "cell_type": "code",
      "source": [
        "def secante(x0, x1, n, erro, itMax):\n",
        "  it = 0\n",
        "  erro_relativo = 1\n",
        "  xa1 = x0\n",
        "  x = x1\n",
        "\n",
        "  while (erro_relativo >= erro and it < itMax):\n",
        "    xa2 = xa1\n",
        "    xa1 = x\n",
        "    x = xa1 - f(xa1, n) * (xa2 - xa1) / (f(xa2, n) - f(xa1, n))\n",
        "    erro_relativo = abs((x - xa1) / x)\n",
        "\n",
        "    it += 1\n",
        "\n",
        "  return (x, erro_relativo, it)\n",
        "\n",
        "x0 = 2\n",
        "x1 = 5\n",
        "n = 17\n",
        "erro = 10 ** -5\n",
        "itMax = 16\n",
        "\n",
        "res = secante(x0, x1, n, erro, itMax)\n",
        "\n",
        "print(f\"O valor da raíz é: {res[0]:.4f}\")\n",
        "print(f\"O erro relativo foi: {res[1]:.4f}\")\n",
        "print(f\"O número de iterações realizadas foi: {res[2]}\")"
      ],
      "metadata": {
        "id": "GyQAQ6iefBXS",
        "colab": {
          "base_uri": "https://localhost:8080/"
        },
        "outputId": "973eb58e-eb1d-4cf7-dfdb-63dbc01df622"
      },
      "execution_count": null,
      "outputs": [
        {
          "output_type": "stream",
          "name": "stdout",
          "text": [
            "O valor da raíz é: 4.1231\n",
            "O erro relativo foi: 0.0000\n",
            "O número de iterações realizadas foi: 5\n"
          ]
        }
      ]
    }
  ]
}