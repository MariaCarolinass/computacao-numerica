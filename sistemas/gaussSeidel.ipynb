{
  "nbformat": 4,
  "nbformat_minor": 0,
  "metadata": {
    "colab": {
      "provenance": []
    },
    "kernelspec": {
      "name": "python3",
      "display_name": "Python 3"
    },
    "language_info": {
      "name": "python"
    }
  },
  "cells": [
    {
      "cell_type": "code",
      "execution_count": null,
      "metadata": {
        "id": "SYz36tiPD4ID"
      },
      "outputs": [],
      "source": [
        "import numpy as np"
      ]
    },
    {
      "cell_type": "code",
      "source": [
        "A = np.array([\n",
        "    [12, 2, -1],\n",
        "    [3, 12, 2],\n",
        "    [4, 3, -17]\n",
        "  ])\n",
        "\n",
        "b = np.array([\n",
        "    [7],\n",
        "    [12],\n",
        "    [-1]\n",
        "  ])\n",
        "\n",
        "def gaussSeidel(A, b, erro, itMax):\n",
        "  length = len(A)\n",
        "  x = np.zeros((length, 1))\n",
        "\n",
        "  it = 0\n",
        "  er = 1\n",
        "\n",
        "  while er >= erro and it < itMax:\n",
        "    xOld = x.copy()\n",
        "\n",
        "    for i in range(length):\n",
        "      soma1 = np.dot(A[i, :i], x[:i])\n",
        "      soma2 = np.dot(A[i, i+1:], xOld[i+1:])\n",
        "      x[i] = (b[i] - soma1 - soma2) / A[i, i]\n",
        "\n",
        "    er = np.max(np.abs(x - xOld)) / np.max(np.abs(x))\n",
        "    it += 1\n",
        "\n",
        "  return x, er, it\n",
        "\n",
        "x, er, it = gaussSeidel(A, b, 10 ** -4, 3)\n",
        "print(x)\n",
        "print(er)\n",
        "print(it)"
      ],
      "metadata": {
        "colab": {
          "base_uri": "https://localhost:8080/"
        },
        "id": "F1hqD5IFEAhh",
        "outputId": "5221660d-f095-4c7f-9c18-75ff94233155"
      },
      "execution_count": null,
      "outputs": [
        {
          "output_type": "stream",
          "name": "stdout",
          "text": [
            "[[0.47212198]\n",
            " [0.82948243]\n",
            " [0.31629031]]\n",
            "0.005730152670416939\n",
            "3\n"
          ]
        }
      ]
    }
  ]
}