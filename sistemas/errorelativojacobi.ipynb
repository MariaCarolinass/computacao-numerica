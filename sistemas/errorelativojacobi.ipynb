{
  "nbformat": 4,
  "nbformat_minor": 0,
  "metadata": {
    "colab": {
      "provenance": []
    },
    "kernelspec": {
      "name": "python3",
      "display_name": "Python 3"
    },
    "language_info": {
      "name": "python"
    }
  },
  "cells": [
    {
      "cell_type": "code",
      "execution_count": null,
      "metadata": {
        "id": "NZO5-3bltbeq"
      },
      "outputs": [],
      "source": [
        "import numpy as np"
      ]
    },
    {
      "cell_type": "code",
      "source": [
        "x = np.array([[5,219], [5,688], [-2,719]])\n",
        "xOld = np.array([[-0,750], [-6,000], [-7,313]])\n",
        "\n",
        "erro_relativo = np.max(np.abs(x - xOld)) / np.max(np.abs(x))\n",
        "print(f'{erro_relativo:.4f}')"
      ],
      "metadata": {
        "colab": {
          "base_uri": "https://localhost:8080/"
        },
        "id": "KJrqVtKTtiGW",
        "outputId": "6034b8e0-9a36-46ed-eb83-8399651dde6b"
      },
      "execution_count": null,
      "outputs": [
        {
          "output_type": "stream",
          "name": "stdout",
          "text": [
            "0.9569\n"
          ]
        }
      ]
    }
  ]
}