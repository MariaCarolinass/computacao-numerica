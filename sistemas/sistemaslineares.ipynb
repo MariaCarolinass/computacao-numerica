{
  "nbformat": 4,
  "nbformat_minor": 0,
  "metadata": {
    "colab": {
      "provenance": []
    },
    "kernelspec": {
      "name": "python3",
      "display_name": "Python 3"
    },
    "language_info": {
      "name": "python"
    }
  },
  "cells": [
    {
      "cell_type": "markdown",
      "source": [
        "# Sistemas Lineares"
      ],
      "metadata": {
        "id": "CHw2rxo_EFam"
      }
    },
    {
      "cell_type": "markdown",
      "source": [
        "Um Sistema Linear é um conjunto finito de equações lineares de n variáveis, onde pode ser um sistema:\n",
        "\n",
        "- Determinado (uma solução)\n",
        "- Indeterminado (mais de uma solução)\n",
        "- Impossível (nenhuma solução)\n",
        "\n",
        "Para resolução numérica de sistemas, podemos escreve-lós na sua forma matricial e utilizar métodos númericos:\n",
        "\n",
        "- Direto: Gauss; Decomposição LU\n",
        "- Interativo: Jacobi; Gauss-Seidel"
      ],
      "metadata": {
        "id": "slJETjgEE_Fs"
      }
    },
    {
      "cell_type": "markdown",
      "source": [
        "## Importações"
      ],
      "metadata": {
        "id": "6zciFzBOFFxk"
      }
    },
    {
      "cell_type": "code",
      "source": [
        "import numpy as np"
      ],
      "metadata": {
        "id": "Q91_UhqfFFO9"
      },
      "execution_count": 1,
      "outputs": []
    },
    {
      "cell_type": "markdown",
      "source": [
        "## Substituição Sucessiva"
      ],
      "metadata": {
        "id": "Ciq9JirnGXhA"
      }
    },
    {
      "cell_type": "markdown",
      "source": [
        "A substituição sucessiva é usada para resolver sistemas com uma matriz triangular inferior."
      ],
      "metadata": {
        "id": "Cc68yVtBGa-u"
      }
    },
    {
      "cell_type": "code",
      "source": [
        "A = np.array([\n",
        "    [2, 0, 0],\n",
        "    [1, 2, 0],\n",
        "    [2, 4, 1]\n",
        "])\n",
        "\n",
        "b = np.array([1, -2, -12])\n",
        "\n",
        "def substituicao_sucessiva(A, b):\n",
        "    x = np.zeros(len(b))\n",
        "\n",
        "    # Substituição regressiva\n",
        "    for i in range(len(b)):\n",
        "        x[i] = b[i]\n",
        "        for j in range(i):\n",
        "            x[i] -= A[i, j] * x[j]\n",
        "        x[i] /= A[i, i]\n",
        "    return x\n",
        "\n",
        "x = substituicao_sucessiva(A, b)\n",
        "\n",
        "print(\"Matriz A:\\n\", A)\n",
        "print(\"\\nMatriz b:\\n\", b)\n",
        "print(\"\\nMatriz x:\\n\", x)"
      ],
      "metadata": {
        "colab": {
          "base_uri": "https://localhost:8080/"
        },
        "id": "yAIMN05eGoY1",
        "outputId": "dfb9d2d4-646b-4a74-95e1-327c9ca9c0e3"
      },
      "execution_count": 23,
      "outputs": [
        {
          "output_type": "stream",
          "name": "stdout",
          "text": [
            "Matriz A:\n",
            " [[2 0 0]\n",
            " [1 2 0]\n",
            " [2 4 1]]\n",
            "\n",
            "Matriz b:\n",
            " [  1  -2 -12]\n",
            "\n",
            "Matriz x:\n",
            " [ 0.5  -1.25 -8.  ]\n"
          ]
        }
      ]
    },
    {
      "cell_type": "markdown",
      "source": [
        "## Resolução Retroativa"
      ],
      "metadata": {
        "id": "QphovW68vwcf"
      }
    },
    {
      "cell_type": "markdown",
      "source": [
        "A resolução retroativa é usada para resolver sistemas com uma matriz triangular superior."
      ],
      "metadata": {
        "id": "RDNPKflawleF"
      }
    },
    {
      "cell_type": "code",
      "source": [
        "A = np.array([\n",
        "    [1, 1, 2],\n",
        "    [0, 2, 1],\n",
        "    [0, 0, 5]\n",
        "])\n",
        "\n",
        "b = np.array([1, -3, -5])\n",
        "\n",
        "def resolucao_retroativa(A, b):\n",
        "    x = np.zeros(len(b))\n",
        "\n",
        "    # Substituição regressiva\n",
        "    for i in range(len(b) - 1, -1, -1):\n",
        "        x[i] = b[i]\n",
        "        for j in range(i + 1, len(b)):\n",
        "            x[i] -= A[i, j] * x[j]\n",
        "        x[i] /= A[i, i]\n",
        "    return x\n",
        "\n",
        "x = resolucao_retroativa(A, b)\n",
        "\n",
        "print(\"Matriz A:\\n\", A)\n",
        "print(\"\\nMatriz b:\\n\", b)\n",
        "print(\"\\nMatriz x:\\n\", x)"
      ],
      "metadata": {
        "colab": {
          "base_uri": "https://localhost:8080/"
        },
        "id": "HpYCGkDNwvPY",
        "outputId": "700a5b2e-abdb-49ed-eca7-9bd2955221d2"
      },
      "execution_count": 22,
      "outputs": [
        {
          "output_type": "stream",
          "name": "stdout",
          "text": [
            "Matriz A:\n",
            " [[1 1 2]\n",
            " [0 2 1]\n",
            " [0 0 5]]\n",
            "\n",
            "Matriz b:\n",
            " [ 1 -3 -5]\n",
            "\n",
            "Matriz x:\n",
            " [ 4. -1. -1.]\n"
          ]
        }
      ]
    },
    {
      "cell_type": "markdown",
      "source": [
        "## Método de Gauss (Eliminação Gaussiana)"
      ],
      "metadata": {
        "id": "OH6gYwqIEd3O"
      }
    },
    {
      "cell_type": "markdown",
      "source": [
        "O método de Gauss utiliza transformações elementares para encontrar uma matriz triangular equivalente."
      ],
      "metadata": {
        "id": "GE7v2JZxG9i0"
      }
    },
    {
      "cell_type": "code",
      "source": [
        "A = np.array([\n",
        "    [7, 1, 3, 1],\n",
        "    [35, -2, 14, 8],\n",
        "    [35, -30, 6, 27],\n",
        "    [28, -38, -2, 39]\n",
        "  ])\n",
        "\n",
        "b = np.array([\n",
        "    [-40],\n",
        "    [-225],\n",
        "    [-259],\n",
        "    [-160]\n",
        "  ])\n",
        "\n",
        "A = np.concatenate((A, b), axis=1)\n",
        "print(\"Matriz Aumentada:\\n\", A, \"\\n\")\n",
        "\n",
        "def gauss(A, b):\n",
        "  for i in range(len(A)):\n",
        "    pivo = A[i, i]\n",
        "\n",
        "    for j in range(i + 1, len(A)):\n",
        "      fator = A[j, i] / pivo\n",
        "      print(f\"Fator L{j + 1} = L{j + 1} - ({fator}) * L{i + 1}\")\n",
        "\n",
        "      A[j, :] = A[j, :] - fator * A[i, :]\n",
        "      b[j] = b[j] - fator * b[i]\n",
        "\n",
        "  return A\n",
        "\n",
        "A = gauss(A, b)\n",
        "print(\"\\nMatriz Escalonada:\\n\", A)"
      ],
      "metadata": {
        "colab": {
          "base_uri": "https://localhost:8080/"
        },
        "id": "dQy1jn7dFCvL",
        "outputId": "3b851ffa-6799-4b88-935f-39a23d1cbb10"
      },
      "execution_count": 3,
      "outputs": [
        {
          "output_type": "stream",
          "name": "stdout",
          "text": [
            "Matriz Aumentada:\n",
            " [[   7    1    3    1  -40]\n",
            " [  35   -2   14    8 -225]\n",
            " [  35  -30    6   27 -259]\n",
            " [  28  -38   -2   39 -160]] \n",
            "\n",
            "Fator L2 = L2 - (5.0) * L1\n",
            "Fator L3 = L3 - (5.0) * L1\n",
            "Fator L4 = L4 - (4.0) * L1\n",
            "Fator L3 = L3 - (5.0) * L2\n",
            "Fator L4 = L4 - (6.0) * L2\n",
            "Fator L4 = L4 - (2.0) * L3\n",
            "\n",
            "Matriz Escalonada:\n",
            " [[  7   1   3   1 -40]\n",
            " [  0  -7  -1   3 -25]\n",
            " [  0   0  -4   7  66]\n",
            " [  0   0   0   3  18]]\n"
          ]
        }
      ]
    },
    {
      "cell_type": "markdown",
      "source": [
        "## Método da Decomposição LU"
      ],
      "metadata": {
        "id": "9B_v3IccEo4X"
      }
    },
    {
      "cell_type": "markdown",
      "source": [
        "A decomposição LU fatora uma matriz em duas matrizes triangulares, uma inferior e outra superior."
      ],
      "metadata": {
        "id": "xKPkGTbIFAiL"
      }
    },
    {
      "cell_type": "code",
      "source": [
        "A = np.array([\n",
        "    [6, -3, -6, 3],\n",
        "    [-42, 27, 44, -14],\n",
        "    [-6, 15, 4, 8],\n",
        "    [12, -42, -42, -52]\n",
        "  ])\n",
        "\n",
        "b = np.array([\n",
        "    [93],\n",
        "    [-631],\n",
        "    [-23],\n",
        "    [128]\n",
        "  ])\n",
        "\n",
        "A = np.concatenate((A, b), axis=1)\n",
        "print(\"Matriz Aumentada:\\n\", A, \"\\n\")\n",
        "\n",
        "def decomposicaoLU(A):\n",
        "  L = np.eye(len(A)) # matriz identidade\n",
        "\n",
        "  for i in range(len(A)):\n",
        "    pivo = A[i, i]\n",
        "\n",
        "    for j in range(i+1, len(A)):\n",
        "      fator = A[j, i] / pivo\n",
        "\n",
        "      L[j, i] = fator\n",
        "      A[j] = A[j] - (fator * A[i])\n",
        "\n",
        "  U = A[:, :-1] # A, sem a última coluna (que é b)\n",
        "  return L, U\n",
        "\n",
        "L, U = decomposicaoLU(A)\n",
        "print(\"Matriz L:\\n\", L)\n",
        "print(\"\\nMatriz U:\\n\", U)"
      ],
      "metadata": {
        "colab": {
          "base_uri": "https://localhost:8080/"
        },
        "id": "QcbiNinpFDRu",
        "outputId": "b53df056-761a-466e-b1e6-1b6c3683b1ae"
      },
      "execution_count": 4,
      "outputs": [
        {
          "output_type": "stream",
          "name": "stdout",
          "text": [
            "Matriz Aumentada:\n",
            " [[   6   -3   -6    3   93]\n",
            " [ -42   27   44  -14 -631]\n",
            " [  -6   15    4    8  -23]\n",
            " [  12  -42  -42  -52  128]] \n",
            "\n",
            "Matriz L:\n",
            " [[ 1.  0.  0.  0.]\n",
            " [-7.  1.  0.  0.]\n",
            " [-1.  2.  1.  0.]\n",
            " [ 2. -6.  3.  1.]]\n",
            "\n",
            "Matriz U:\n",
            " [[ 6 -3 -6  3]\n",
            " [ 0  6  2  7]\n",
            " [ 0  0 -6 -3]\n",
            " [ 0  0  0 -7]]\n"
          ]
        }
      ]
    },
    {
      "cell_type": "markdown",
      "source": [
        "## Método de Jacobi"
      ],
      "metadata": {
        "id": "EJ5ehO51EuKl"
      }
    },
    {
      "cell_type": "markdown",
      "source": [
        "O método de Jacobi utiliza uma aproximação inicial e a cada interação filtra um resultado melhor de acordo com as aproximações anteriores."
      ],
      "metadata": {
        "id": "eL9uj6dtFBC7"
      }
    },
    {
      "cell_type": "code",
      "source": [
        "A = np.array([\n",
        "    [-4, 5, 2],\n",
        "    [-8, 9, 1],\n",
        "    [-4, 9, 17]\n",
        "  ])\n",
        "\n",
        "b = np.array([\n",
        "    [23],\n",
        "    [50],\n",
        "    [-2]\n",
        "  ])\n",
        "\n",
        "print(\"Matriz A:\\n\", A)\n",
        "print(\"\\nMatriz b:\\n\", b, \"\\n\")\n",
        "\n",
        "def jacobi(A, b, erro, itMax):\n",
        "  xOld = np.zeros((len(A), 1)) # Inicializar xOld com zeros\n",
        "\n",
        "  D_inv = np.linalg.inv(np.diag(np.diag(A))) # Inversa da matriz diagonal\n",
        "  B = -D_inv @ (A - np.diag(np.diag(A))) # Matriz B\n",
        "  d = D_inv @ b # Calculando d\n",
        "\n",
        "  it = 0\n",
        "  er = 1 # erro relativo\n",
        "\n",
        "  while er >= erro and it < itMax:\n",
        "    x = B @ xOld + d\n",
        "    er = np.max(np.abs(x - xOld)) / np.max(np.abs(x))\n",
        "    xOld = x\n",
        "    it += 1\n",
        "\n",
        "  return x, er, it\n",
        "\n",
        "x, er, it = jacobi(A, b, 10 ** -2, 4)\n",
        "print(\"Matriz aproximada:\\n\", x)\n",
        "print(\"\\nErro relativo: \", er)\n",
        "print(\"Número de interações: \", it)"
      ],
      "metadata": {
        "colab": {
          "base_uri": "https://localhost:8080/"
        },
        "id": "cf86xR_4FD4b",
        "outputId": "517cd558-b635-4051-aeaa-5e127ac0df4c"
      },
      "execution_count": 12,
      "outputs": [
        {
          "output_type": "stream",
          "name": "stdout",
          "text": [
            "Matriz A:\n",
            " [[-4  5  2]\n",
            " [-8  9  1]\n",
            " [-4  9 17]]\n",
            "\n",
            "Matriz b:\n",
            " [[23]\n",
            " [50]\n",
            " [-2]] \n",
            "\n",
            "Matriz aproximada:\n",
            " [[ 3.02266222]\n",
            " [-0.99769319]\n",
            " [-5.59015763]]\n",
            "\n",
            "Erro relativo:  1.861602093840746\n",
            "Número de interações:  4\n"
          ]
        }
      ]
    },
    {
      "cell_type": "markdown",
      "source": [
        "## Método de Gauss-Seidel"
      ],
      "metadata": {
        "id": "fsd63-PyEzU0"
      }
    },
    {
      "cell_type": "markdown",
      "source": [
        "Diferente do método de Jacobi, Gauss-Seidel intera sobre cada aproximação e opera imediatamente os novos valores."
      ],
      "metadata": {
        "id": "ro_zAvLWFB1m"
      }
    },
    {
      "cell_type": "code",
      "source": [
        "A = np.array([\n",
        "    [12, 2, -1],\n",
        "    [3, 12, 2],\n",
        "    [4, 3, -17]\n",
        "  ])\n",
        "\n",
        "b = np.array([\n",
        "    [7],\n",
        "    [12],\n",
        "    [-1]\n",
        "  ])\n",
        "\n",
        "print(\"Matriz A:\\n\", A)\n",
        "print(\"\\nMatriz b:\\n\", b, \"\\n\")\n",
        "\n",
        "def gaussSeidel(A, b, erro, itMax):\n",
        "  x = np.zeros((len(A), 1))\n",
        "\n",
        "  it = 0\n",
        "  er = 1\n",
        "\n",
        "  while er >= erro and it < itMax:\n",
        "    xOld = x.copy()\n",
        "\n",
        "    for i in range(len(A)):\n",
        "      soma1 = np.dot(A[i, :i], x[:i])\n",
        "      soma2 = np.dot(A[i, i+1:], xOld[i+1:])\n",
        "      x[i] = (b[i] - soma1 - soma2) / A[i, i]\n",
        "\n",
        "    er = np.max(np.abs(x - xOld)) / np.max(np.abs(x))\n",
        "    it += 1\n",
        "\n",
        "  return x, er, it\n",
        "\n",
        "x, er, it = gaussSeidel(A, b, 10 ** -4, 3)\n",
        "print(\"Matriz aproximada:\\n\", x)\n",
        "print(\"\\nErro relativo: \", er)\n",
        "print(\"Número de interações: \", it)"
      ],
      "metadata": {
        "colab": {
          "base_uri": "https://localhost:8080/"
        },
        "outputId": "7d94d74c-8e33-4ca7-a84e-892ac81695cb",
        "id": "8om0dxouIRo9"
      },
      "execution_count": 14,
      "outputs": [
        {
          "output_type": "stream",
          "name": "stdout",
          "text": [
            "Matriz A:\n",
            " [[ 12   2  -1]\n",
            " [  3  12   2]\n",
            " [  4   3 -17]]\n",
            "\n",
            "Matriz b:\n",
            " [[ 7]\n",
            " [12]\n",
            " [-1]] \n",
            "\n",
            "Matriz aproximada:\n",
            " [[0.47212198]\n",
            " [0.82948243]\n",
            " [0.31629031]]\n",
            "\n",
            "Erro relativo:  0.005730152670416939\n",
            "Número de interações:  3\n"
          ]
        }
      ]
    }
  ]
}