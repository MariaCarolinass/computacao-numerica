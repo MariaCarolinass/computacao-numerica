{
  "nbformat": 4,
  "nbformat_minor": 0,
  "metadata": {
    "colab": {
      "provenance": []
    },
    "kernelspec": {
      "name": "python3",
      "display_name": "Python 3"
    },
    "language_info": {
      "name": "python"
    }
  },
  "cells": [
    {
      "cell_type": "code",
      "execution_count": null,
      "metadata": {
        "id": "TdwHatD15cgz"
      },
      "outputs": [],
      "source": [
        "import numpy as np"
      ]
    },
    {
      "cell_type": "code",
      "source": [
        "A = np.array([\n",
        "    [13, 4, 1],\n",
        "    [4, 12, 4],\n",
        "    [1, 4, -14]\n",
        "  ])\n",
        "\n",
        "b = np.array([\n",
        "    [4],\n",
        "    [13],\n",
        "    [1]\n",
        "  ])\n",
        "\n",
        "def jacobi(A, b, erro, itMax):\n",
        "  length = len(A)\n",
        "  xOld = np.zeros((length, 1)) # Inicializar xOld com zeros\n",
        "\n",
        "  D_inv = np.linalg.inv(np.diag(np.diag(A))) # Inversa da matriz diagonal\n",
        "  B = -D_inv @ (A - np.diag(np.diag(A))) # Matriz B\n",
        "  d = D_inv @ b # Calculando d\n",
        "\n",
        "  it = 0\n",
        "  er = 1 # erro relativo\n",
        "\n",
        "  while er >= erro and it < itMax:\n",
        "    x = B @ xOld + d\n",
        "    er = np.max(np.abs(x - xOld)) / np.max(np.abs(x))\n",
        "    xOld = x\n",
        "    it += 1\n",
        "\n",
        "  return x, it\n",
        "\n",
        "x, it = jacobi(A, b, 10 ** -3, 10)\n",
        "print(x)\n",
        "print(it)"
      ],
      "metadata": {
        "colab": {
          "base_uri": "https://localhost:8080/"
        },
        "id": "NHO_m_lt5w6h",
        "outputId": "8c3ba15f-d140-4ba2-afff-60df905315a8"
      },
      "execution_count": null,
      "outputs": [
        {
          "output_type": "stream",
          "name": "stdout",
          "text": [
            "[[-0.02232385]\n",
            " [ 1.0179413 ]\n",
            " [ 0.21781494]]\n",
            "6\n"
          ]
        }
      ]
    }
  ]
}