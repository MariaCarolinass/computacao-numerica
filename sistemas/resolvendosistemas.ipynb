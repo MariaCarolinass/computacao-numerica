{
  "nbformat": 4,
  "nbformat_minor": 0,
  "metadata": {
    "colab": {
      "provenance": []
    },
    "kernelspec": {
      "name": "python3",
      "display_name": "Python 3"
    },
    "language_info": {
      "name": "python"
    }
  },
  "cells": [
    {
      "cell_type": "markdown",
      "source": [
        "# Sistemas de Equações"
      ],
      "metadata": {
        "id": "7MArp0IIj3Ar"
      }
    },
    {
      "cell_type": "markdown",
      "source": [
        "Resolva o que se pede para os sistemas."
      ],
      "metadata": {
        "id": "Ah9chTBhkDm-"
      }
    },
    {
      "cell_type": "markdown",
      "source": [
        "## Importações"
      ],
      "metadata": {
        "id": "Y28Bwjxxj_E2"
      }
    },
    {
      "cell_type": "code",
      "execution_count": null,
      "metadata": {
        "id": "9KccLhOvRChe"
      },
      "outputs": [],
      "source": [
        "import numpy as np"
      ]
    },
    {
      "cell_type": "markdown",
      "source": [
        "## 1 - Implemente um código para resolver um sistema linear triangular inferior pelo método das substituições sucessivas."
      ],
      "metadata": {
        "id": "-CImE6ugjz1U"
      }
    },
    {
      "cell_type": "code",
      "source": [
        "n = int(input())\n",
        "\n",
        "arrayA = [float(input()) for x in range(n**2)]\n",
        "arrayb = [float(input()) for x in range(n)]\n",
        "\n",
        "A = np.array(arrayA).reshape((n, n))\n",
        "b = np.array(arrayb).reshape((n, 1))\n",
        "\n",
        "def substituicao_sucessiva(A, b):\n",
        "    x = np.zeros(len(b))\n",
        "    for i in range(len(b)):\n",
        "        x[i] = b[i]\n",
        "        for j in range(i):\n",
        "            x[i] -= A[i, j] * x[j]\n",
        "        x[i] /= A[i, i]\n",
        "    return x\n",
        "\n",
        "x = substituicao_sucessiva(A, b)\n",
        "\n",
        "somaX = np.sum(x)\n",
        "print(f'{somaX:.1f}')"
      ],
      "metadata": {
        "id": "htPQU4sLjz94"
      },
      "execution_count": null,
      "outputs": []
    },
    {
      "cell_type": "markdown",
      "source": [
        "## 2 - Implemente um código para resolver um sistema linear triangular superior pelo método das resoluções retroativas."
      ],
      "metadata": {
        "id": "sX9p2LTklFT9"
      }
    },
    {
      "cell_type": "code",
      "source": [
        "n = int(input())\n",
        "\n",
        "arrayA = [float(input()) for x in range(n**2)]\n",
        "arrayb = [float(input()) for x in range(n)]\n",
        "\n",
        "A = np.array(arrayA).reshape((n, n))\n",
        "b = np.array(arrayb).reshape((n, 1))\n",
        "\n",
        "def resolucao_retroativa(A, b):\n",
        "    x = np.zeros(len(b))\n",
        "    for i in range(len(b) - 1, -1, -1):\n",
        "        x[i] = b[i]\n",
        "        for j in range(i + 1, len(b)):\n",
        "            x[i] -= A[i, j] * x[j]\n",
        "        x[i] /= A[i, i]\n",
        "    return x\n",
        "\n",
        "x = resolucao_retroativa(A, b)\n",
        "\n",
        "somaX = np.sum(x)\n",
        "print(f'{somaX:.1f}')"
      ],
      "metadata": {
        "id": "_RZiAscalP3h"
      },
      "execution_count": null,
      "outputs": []
    },
    {
      "cell_type": "markdown",
      "source": [
        "## 3 - Implemente o método da Eliminação de Gauss para resolução de um sistema linear. Resolva a matriz obtida por escalonamento no método de Gauss pela resolução de matrizes triangulares."
      ],
      "metadata": {
        "id": "CDIB2antlaea"
      }
    },
    {
      "cell_type": "code",
      "source": [
        "n = int(input())\n",
        "\n",
        "arrayA = [float(input()) for x in range(n**2)]\n",
        "arrayb = [float(input()) for x in range(n)]\n",
        "\n",
        "A = np.array(arrayA).reshape((n, n))\n",
        "b = np.array(arrayb).reshape((n, 1))\n",
        "A = np.concatenate((A, b), axis=1)\n",
        "\n",
        "def gauss(A, b):\n",
        "  for i in range(len(A)):\n",
        "    pivo = A[i, i]\n",
        "\n",
        "    for j in range(i + 1, len(A)):\n",
        "      fator = A[j, i] / pivo\n",
        "      A[j, :] = A[j, :] - fator * A[i, :]\n",
        "      b[j] = b[j] - fator * b[i]\n",
        "\n",
        "  return A\n",
        "\n",
        "A = gauss(A, b)\n",
        "\n",
        "def resolucao_retroativa(A, b):\n",
        "    x = np.zeros(len(b))\n",
        "    for i in range(len(b) - 1, -1, -1):\n",
        "        x[i] = b[i]\n",
        "        for j in range(i + 1, len(b)):\n",
        "            x[i] -= A[i, j] * x[j]\n",
        "        x[i] /= A[i, i]\n",
        "    return x\n",
        "\n",
        "x = resolucao_retroativa(A, b)\n",
        "\n",
        "somaX = np.sum(x)\n",
        "print(f'{somaX:.1f}')"
      ],
      "metadata": {
        "id": "pe23Frk0mHjN"
      },
      "execution_count": null,
      "outputs": []
    },
    {
      "cell_type": "markdown",
      "source": [
        "## 4 - Implemente o método da decomposição LU de uma matriz e ao final mostre a soma de L mais U."
      ],
      "metadata": {
        "id": "-8IKpoP0mX9Z"
      }
    },
    {
      "cell_type": "code",
      "source": [
        "n = int(input())\n",
        "\n",
        "arrayA = [float(input()) for x in range(n**2)]\n",
        "A = np.array(arrayA).reshape((n, n))\n",
        "\n",
        "def decomposicaoLU(A):\n",
        "  A = A.copy()\n",
        "  L = np.eye(len(A))\n",
        "\n",
        "  for i in range(len(A)):\n",
        "    pivo = A[i, i]\n",
        "\n",
        "    for j in range(i+1, len(A)):\n",
        "      fator = A[j, i] / pivo\n",
        "\n",
        "      L[j, i] = fator\n",
        "      A[j] = A[j] - (fator * A[i])\n",
        "\n",
        "  U = A\n",
        "  return L, U\n",
        "\n",
        "L, U = decomposicaoLU(A)\n",
        "\n",
        "soma = np.sum(L + U)\n",
        "print(f'{soma:.1f}')"
      ],
      "metadata": {
        "id": "oozwN3jtmuyU"
      },
      "execution_count": null,
      "outputs": []
    },
    {
      "cell_type": "markdown",
      "source": [
        "# 5 - Implemente um programa que resolva um sistema linear pela decomposição LU e resolva os resultados de L e U pela resolução de matrizes triangulares, as soluções devem ser salvas nas variáveis x e y. Ao final, exiba a soma de L mais U e x mais y."
      ],
      "metadata": {
        "id": "nyIcB-vpnC5N"
      }
    },
    {
      "cell_type": "code",
      "source": [
        "n = int(input())\n",
        "\n",
        "arrayA = [float(input()) for x in range(n**2)]\n",
        "arrayb = [float(input()) for x in range(n)]\n",
        "\n",
        "A = np.array(arrayA).reshape((n, n))\n",
        "b = np.array(arrayb).reshape((n, 1))\n",
        "\n",
        "def decomposicaoLU(A):\n",
        "  A = A.copy()\n",
        "  L = np.eye(len(A))\n",
        "\n",
        "  for i in range(len(A)):\n",
        "    pivo = A[i, i]\n",
        "\n",
        "    for j in range(i+1, len(A)):\n",
        "      fator = A[j, i] / pivo\n",
        "\n",
        "      L[j, i] = fator\n",
        "      A[j] = A[j] - (fator * A[i])\n",
        "\n",
        "  U = A\n",
        "  return L, U\n",
        "\n",
        "L, U = decomposicaoLU(A)\n",
        "\n",
        "def substituicao_sucessiva(L, b):\n",
        "    y = np.zeros(len(b))\n",
        "    for i in range(len(b)):\n",
        "        y[i] = b[i]\n",
        "        for j in range(i):\n",
        "            y[i] -= L[i, j] * y[j]\n",
        "        y[i] /= L[i, i]\n",
        "    return y\n",
        "\n",
        "y = substituicao_sucessiva(L, b)\n",
        "\n",
        "def resolucao_retroativa(U, b):\n",
        "    x = np.zeros(len(b))\n",
        "    for i in range(len(b) - 1, -1, -1):\n",
        "        x[i] = b[i]\n",
        "        for j in range(i + 1, len(b)):\n",
        "            x[i] -= U[i, j] * x[j]\n",
        "        x[i] /= U[i, i]\n",
        "    return x\n",
        "\n",
        "x = resolucao_retroativa(U, y)\n",
        "\n",
        "soma = np.sum(L+U) + np.sum(y+x)\n",
        "print(f'{soma:.1f}')"
      ],
      "metadata": {
        "id": "PL_c-tQznze6"
      },
      "execution_count": null,
      "outputs": []
    },
    {
      "cell_type": "markdown",
      "source": [
        "## 6 - Implemente o método de Jacobi para a resolução de um sistema linear."
      ],
      "metadata": {
        "id": "40lEkAwCpDOD"
      }
    },
    {
      "cell_type": "code",
      "source": [
        "p = int(input())\n",
        "itMax = int(input())\n",
        "\n",
        "n = int(input())\n",
        "\n",
        "arrayA = [float(input()) for x in range(n**2)]\n",
        "arrayb = [float(input()) for x in range(n)]\n",
        "arrayx0 = [float(input()) for x in range(n)]\n",
        "\n",
        "A = np.array(arrayA).reshape((n, n))\n",
        "b = np.array(arrayb).reshape((n, 1))\n",
        "x0 = np.array(arrayx0).reshape((n, 1))\n",
        "\n",
        "def jacobi(A, b, erro, itMax, x0):\n",
        "  xOld = x0.copy()\n",
        "\n",
        "  D_inv = np.linalg.inv(np.diag(np.diag(A)))\n",
        "  B = -D_inv @ (A - np.diag(np.diag(A)))\n",
        "  d = D_inv @ b\n",
        "\n",
        "  it = 0\n",
        "  er = 1\n",
        "  x = xOld\n",
        "\n",
        "  while er >= erro and it < itMax:\n",
        "    x = B @ xOld + d\n",
        "    er = np.max(np.abs(x - xOld)) / np.max(np.abs(x))\n",
        "    xOld = x\n",
        "    it += 1\n",
        "\n",
        "  return x, er, it\n",
        "\n",
        "x, er, it = jacobi(A, b, 10 ** -p, itMax, x0)\n",
        "\n",
        "somaX = np.sum(x)\n",
        "print(f'{somaX:.4f} {it} {er:.7f}')"
      ],
      "metadata": {
        "id": "Q8hF9toypG99"
      },
      "execution_count": null,
      "outputs": []
    },
    {
      "cell_type": "markdown",
      "source": [
        "## 7 - Implemente o método de Gauss-Seidel para a resolução de um sistema linear."
      ],
      "metadata": {
        "id": "t_cBFjgEpupZ"
      }
    },
    {
      "cell_type": "code",
      "source": [
        "p = int(input())\n",
        "itMax = int(input())\n",
        "\n",
        "n = int(input())\n",
        "\n",
        "arrayA = [float(input()) for x in range(n**2)]\n",
        "arrayb = [float(input()) for x in range(n)]\n",
        "arrayx0 = [float(input()) for x in range(n)]\n",
        "\n",
        "A = np.array(arrayA).reshape((n, n))\n",
        "b = np.array(arrayb).reshape((n, 1))\n",
        "x0 = np.array(arrayx0).reshape((n, 1))\n",
        "\n",
        "def gaussSeidel(A, b, erro, itMax, x0):\n",
        "  x = x0.copy()\n",
        "\n",
        "  it = 0\n",
        "  er = 1\n",
        "\n",
        "  while er >= erro and it < itMax:\n",
        "    xOld = x.copy()\n",
        "\n",
        "    for i in range(len(A)):\n",
        "      soma1 = np.dot(A[i, :i], x[:i])\n",
        "      soma2 = np.dot(A[i, i+1:], xOld[i+1:])\n",
        "      x[i] = (b[i] - soma1 - soma2) / A[i, i]\n",
        "\n",
        "    er = np.max(np.abs(x - xOld)) / np.max(np.abs(x))\n",
        "    it += 1\n",
        "\n",
        "  return x, er, it\n",
        "\n",
        "x, er, it = gaussSeidel(A, b, 10 ** -p, itMax, x0)\n",
        "\n",
        "somaX = np.sum(x)\n",
        "print(f'{somaX:.4f} {it} {er:.7f}')"
      ],
      "metadata": {
        "id": "IeGSEGs_p1on"
      },
      "execution_count": null,
      "outputs": []
    },
    {
      "cell_type": "markdown",
      "source": [
        "## 8 - Monte um sistema de equações lineares para o circuito abaixo:\n",
        "\n",
        "![circuito.jpg](data:image/jpeg;base64,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)"
      ],
      "metadata": {
        "id": "JIAui-AiMc9W"
      }
    },
    {
      "cell_type": "markdown",
      "source": [
        "Resistências (RR):\n",
        "\n",
        "    R1​=12Ω,\n",
        "    R2​=16Ω,\n",
        "    R3​=11Ω,\n",
        "    R4​=10Ω,\n",
        "    R5​=11Ω,\n",
        "    R6​=10Ω,\n",
        "    R7​=27Ω,\n",
        "    R8​=15Ω,\n",
        "    R9​=12Ω.\n",
        "\n",
        "Fontes de Tensão (VV):\n",
        "\n",
        "    V1​=200V,\n",
        "    V2​=157V,\n",
        "    V3​=215V,\n",
        "    V4​=225V."
      ],
      "metadata": {
        "id": "Ik7PKOoxNE0-"
      }
    },
    {
      "cell_type": "code",
      "source": [
        "R = np.array([\n",
        "    [27, 0, -11, 0, 0],\n",
        "    [0, 23, -12, 0, 0],\n",
        "    [-11, -12, 77, -12, -27],\n",
        "    [0, 0, -12, 22, -10],\n",
        "    [0, 0, -27, -10, 47]\n",
        "], dtype=float)\n",
        "\n",
        "V = np.array([\n",
        "    200,\n",
        "    225,\n",
        "    -157,\n",
        "    -215,\n",
        "    0\n",
        "], dtype=float)\n",
        "\n",
        "print(\"Matriz R:\\n\", R)\n",
        "print(\"\\nMatriz V:\\n\", V)"
      ],
      "metadata": {
        "colab": {
          "base_uri": "https://localhost:8080/"
        },
        "id": "lCc_KXyqNrhc",
        "outputId": "65ff126c-7bb3-4bd1-9363-a0130b2c50b3"
      },
      "execution_count": null,
      "outputs": [
        {
          "output_type": "stream",
          "name": "stdout",
          "text": [
            "Matriz R:\n",
            " [[ 27.   0. -11.   0.   0.]\n",
            " [  0.  23. -12.   0.   0.]\n",
            " [-11. -12.  77. -12. -27.]\n",
            " [  0.   0. -12.  22. -10.]\n",
            " [  0.   0. -27. -10.  47.]]\n",
            "\n",
            "Matriz V:\n",
            " [ 200.  225. -157. -215.    0.]\n"
          ]
        }
      ]
    },
    {
      "cell_type": "markdown",
      "source": [
        "## 9 - Use um dos métodos exatos para resolver o sistema e encontre a soma das correntes do circuito."
      ],
      "metadata": {
        "id": "A8lDhQLAPuxu"
      }
    },
    {
      "cell_type": "code",
      "source": [
        "def gauss(A, b):\n",
        "  n = len(A)\n",
        "\n",
        "  # Eliminação de Gauss\n",
        "  for i in range(n):\n",
        "    pivo = A[i, i]\n",
        "    for j in range(i + 1, n):\n",
        "        fator = A[j, i] / pivo\n",
        "        A[j, :] -= fator * A[i, :]\n",
        "        b[j] -= fator * b[i]\n",
        "\n",
        "  # Substituição retroativa\n",
        "  x = np.zeros(n)\n",
        "  for i in range(len(b) - 1, -1, -1):\n",
        "      x[i] = b[i]\n",
        "      for j in range(i + 1, len(b)):\n",
        "          x[i] -= A[i, j] * x[j]\n",
        "      x[i] /= A[i, i]\n",
        "\n",
        "  return x\n",
        "\n",
        "i = gauss(R, V)\n",
        "\n",
        "somaI = np.sum(i)\n",
        "print(f'{somaI:.2f}')"
      ],
      "metadata": {
        "colab": {
          "base_uri": "https://localhost:8080/"
        },
        "id": "-gRFfVmHQKJP",
        "outputId": "37df7722-9ce4-48b4-e1c9-6434799ec710"
      },
      "execution_count": null,
      "outputs": [
        {
          "output_type": "stream",
          "name": "stdout",
          "text": [
            "-11.36\n"
          ]
        }
      ]
    },
    {
      "cell_type": "markdown",
      "source": [
        "## 10 - Monte um sistema de equações lineares para o circuito abaixo:\n",
        "\n",
        "![circuito2.jpg](data:image/jpeg;base64,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)"
      ],
      "metadata": {
        "id": "7H1QIwkqmYLu"
      }
    },
    {
      "cell_type": "markdown",
      "source": [
        "Resistências (RR):\n",
        "\n",
        "    R1=17Ω,\n",
        "    R2=15Ω,\n",
        "    R3=13Ω,\n",
        "    R4=16Ω,\n",
        "    R5=23Ω,\n",
        "    R6=29Ω,\n",
        "    R7=25Ω,\n",
        "    R8=30Ω,\n",
        "    R9=26Ω,\n",
        "    R10=10Ω,\n",
        "    R11=20Ω.\n",
        "\n",
        "Fontes de Tensão (VV):\n",
        "\n",
        "    V1=181V,\n",
        "    V2=193V,\n",
        "    V3=163V,\n",
        "    V4=206V,\n",
        "    V5=229V\n",
        "    V6=153V."
      ],
      "metadata": {
        "id": "FkGVpkEGNMEJ"
      }
    },
    {
      "cell_type": "code",
      "source": [
        "R = np.array([\n",
        "    [46, -17, 0, 0, 0, 0],\n",
        "    [-17, 57, -15, 0, 0, 0],\n",
        "    [0, -15, 58, -13, 0, 0],\n",
        "    [0, 0, -13, 55, -16, 0],\n",
        "    [0, 0, 0, -16, 49, -23],\n",
        "    [0, 0, 0, 0, -23, 43]\n",
        "], dtype=float)\n",
        "\n",
        "V = np.array([\n",
        "    181,\n",
        "    193,\n",
        "    -206,\n",
        "    -229,\n",
        "    153,\n",
        "    -163\n",
        "], dtype=float)\n",
        "\n",
        "print(\"Matriz R:\\n\", R)\n",
        "print(\"\\nMatriz V:\\n\", V)"
      ],
      "metadata": {
        "colab": {
          "base_uri": "https://localhost:8080/"
        },
        "id": "gvvHyGDBmYmu",
        "outputId": "08e27a82-cdcf-4e21-9401-80f27ff15885"
      },
      "execution_count": null,
      "outputs": [
        {
          "output_type": "stream",
          "name": "stdout",
          "text": [
            "Matriz R:\n",
            " [[ 46. -17.   0.   0.   0.   0.]\n",
            " [-17.  57. -15.   0.   0.   0.]\n",
            " [  0. -15.  58. -13.   0.   0.]\n",
            " [  0.   0. -13.  55. -16.   0.]\n",
            " [  0.   0.   0. -16.  49. -23.]\n",
            " [  0.   0.   0.   0. -23.  43.]]\n",
            "\n",
            "Matriz V:\n",
            " [ 181.  193. -206. -229.  153. -163.]\n"
          ]
        }
      ]
    },
    {
      "cell_type": "markdown",
      "source": [
        "## 11 - Utilize o Método de Jacobi para calcular o valor das correntes com 3 algarismos significativos de precisão e indique a soma das correntes obtidas."
      ],
      "metadata": {
        "id": "UuXWPwZVLV7I"
      }
    },
    {
      "cell_type": "code",
      "source": [
        "def jacobi(A, b, erro, itMax):\n",
        "  xOld = np.zeros_like(b)\n",
        "\n",
        "  D_inv = np.linalg.inv(np.diag(np.diag(A)))\n",
        "  B = -D_inv @ (A - np.diag(np.diag(A)))\n",
        "  d = D_inv @ b\n",
        "\n",
        "  it = 0\n",
        "  er = 1\n",
        "\n",
        "  while er >= erro and it < itMax:\n",
        "    x = B @ xOld + d\n",
        "    er = np.max(np.abs(x - xOld)) / np.max(np.abs(x))\n",
        "    xOld = x\n",
        "    it += 1\n",
        "\n",
        "  return x, er, it\n",
        "\n",
        "i, er, it = jacobi(R, V, 10 ** -3, 20)\n",
        "\n",
        "somaI = np.sum(i)\n",
        "print(f'{somaI:.3f} {it} {er:.3f}')"
      ],
      "metadata": {
        "colab": {
          "base_uri": "https://localhost:8080/"
        },
        "id": "BRhoKQDsLWN9",
        "outputId": "f8ae9ae0-4137-4469-b5a8-40d2bbb9e1b3"
      },
      "execution_count": null,
      "outputs": [
        {
          "output_type": "stream",
          "name": "stdout",
          "text": [
            "-3.846 15 0.001\n"
          ]
        }
      ]
    },
    {
      "cell_type": "markdown",
      "source": [
        "## 12 - Utilize o Método de Gauss-Seidel para encontrar os valores das correntes com precisão de 3 algarismos significativos e indique a soma das correntes."
      ],
      "metadata": {
        "id": "5T0cMj1AL-Jv"
      }
    },
    {
      "cell_type": "code",
      "source": [
        "def gaussSeidel(A, b, erro, itMax):\n",
        "  x = np.zeros((len(A), 1))\n",
        "\n",
        "  it = 0\n",
        "  er = 1\n",
        "\n",
        "  while er >= erro and it < itMax:\n",
        "    xOld = x.copy()\n",
        "\n",
        "    for i in range(len(A)):\n",
        "      soma1 = np.dot(A[i, :i], x[:i])\n",
        "      soma2 = np.dot(A[i, i+1:], xOld[i+1:])\n",
        "      x[i] = (b[i] - soma1 - soma2) / A[i, i]\n",
        "\n",
        "    er = np.max(np.abs(x - xOld)) / np.max(np.abs(x))\n",
        "    it += 1\n",
        "\n",
        "  return x, er, it\n",
        "\n",
        "x, er, it = gaussSeidel(R, V, 10 ** -3, 16)\n",
        "\n",
        "somaX = np.sum(x)\n",
        "print(f'{somaX:.3f} {it} {er:.3f}')"
      ],
      "metadata": {
        "colab": {
          "base_uri": "https://localhost:8080/"
        },
        "id": "uA8_KHmPr8MO",
        "outputId": "e64176b4-e493-4acb-e07e-46d502e9270a"
      },
      "execution_count": null,
      "outputs": [
        {
          "output_type": "stream",
          "name": "stdout",
          "text": [
            "-3.842 8 0.001\n"
          ]
        }
      ]
    }
  ]
}