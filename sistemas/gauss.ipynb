{
  "nbformat": 4,
  "nbformat_minor": 0,
  "metadata": {
    "colab": {
      "provenance": []
    },
    "kernelspec": {
      "name": "python3",
      "display_name": "Python 3"
    },
    "language_info": {
      "name": "python"
    }
  },
  "cells": [
    {
      "cell_type": "code",
      "execution_count": null,
      "metadata": {
        "id": "KEy_GRGRKz3h"
      },
      "outputs": [],
      "source": [
        "import numpy as np"
      ]
    },
    {
      "cell_type": "code",
      "source": [
        "# matriz 3x3\n",
        "A = np.array([\n",
        "    [-6, -2, -3],\n",
        "    [-36, -19, -24],\n",
        "    [6, 30, 34]\n",
        "  ])\n",
        "\n",
        "b = np.array([\n",
        "    [17],\n",
        "    [97],\n",
        "    [-32]\n",
        "  ])\n",
        "\n",
        "# matriz aumentada\n",
        "A = np.concatenate((A, b), axis=1)\n",
        "print(\"Matriz:\\n\", A)\n",
        "\n",
        "# Escalonamento\n",
        "pivo = A[0, 0]\n",
        "\n",
        "fator = A[1, 0] / pivo\n",
        "A[1, :] = A[1, :] - fator * A[0, :]\n",
        "print(f\"\\nFator L2 = L2 - ({fator}) * L1\")\n",
        "\n",
        "fator = A[2, 0] / pivo\n",
        "A[2, :] = A[2, :] - fator * A[0, :]\n",
        "print(f\"Fator L3 = L3 - ({fator}) * L1\")\n",
        "\n",
        "pivo = A[1, 1]\n",
        "\n",
        "fator = A[2, 1] / pivo\n",
        "A[2, :] = A[2, :] - fator * A[1, :]\n",
        "print(f\"Fator L3 = L3 - ({fator}) * L2\")\n",
        "\n",
        "print(\"\\nMatriz Escalonada:\\n\", A)"
      ],
      "metadata": {
        "colab": {
          "base_uri": "https://localhost:8080/"
        },
        "id": "JhrMvaCLLbxR",
        "outputId": "16a95b70-9298-48e1-b568-bfb641735ffe"
      },
      "execution_count": null,
      "outputs": [
        {
          "output_type": "stream",
          "name": "stdout",
          "text": [
            "Matriz:\n",
            " [[ -6  -2  -3  17]\n",
            " [-36 -19 -24  97]\n",
            " [  6  30  34 -32]]\n",
            "\n",
            "Fator L2 = L2 - (6.0) * L1\n",
            "Fator L3 = L3 - (-1.0) * L1\n",
            "Fator L3 = L3 - (-4.0) * L2\n",
            "\n",
            "Matriz Escalonada:\n",
            " [[ -6  -2  -3  17]\n",
            " [  0  -7  -6  -5]\n",
            " [  0   0   7 -35]]\n"
          ]
        }
      ]
    },
    {
      "cell_type": "code",
      "source": [
        "# matriz 4x4\n",
        "A = np.array([\n",
        "    [7, 1, 3, 1],\n",
        "    [35, -2, 14, 8],\n",
        "    [35, -30, 6, 27],\n",
        "    [28, -38, -2, 39]\n",
        "  ])\n",
        "\n",
        "b = np.array([\n",
        "    [-40],\n",
        "    [-225],\n",
        "    [-259],\n",
        "    [-160]\n",
        "  ])\n",
        "\n",
        "# matriz aumentada\n",
        "A = np.concatenate((A, b), axis=1)\n",
        "print(\"Matriz:\\n\", A)\n",
        "\n",
        "pivo = A[0, 0]\n",
        "fator = A[1, 0] / pivo\n",
        "A[1, :] = A[1, :] - fator * A[0, :]\n",
        "print(f\"\\n{fator}\")\n",
        "\n",
        "fator = A[2, 0] / pivo\n",
        "A[2, :] = A[2, :] - fator * A[0, :]\n",
        "print(fator)\n",
        "\n",
        "fator = A[3, 0] / pivo\n",
        "A[3, :] = A[3, :] - fator * A[0, :]\n",
        "print(fator)\n",
        "\n",
        "pivo = A[1, 1]\n",
        "fator = A[2, 1] / pivo\n",
        "A[2, :] = A[2, :] - fator * A[1, :]\n",
        "print(fator)\n",
        "\n",
        "fator = A[3, 1] / pivo\n",
        "A[3, :] = A[3, :] - fator * A[1, :]\n",
        "print(fator)\n",
        "\n",
        "pivo = A[2, 2]\n",
        "fator = A[3, 2] / pivo\n",
        "A[3, :] = A[3, :] - fator * A[2, :]\n",
        "\n",
        "print(\"\\nMatriz Escalonada:\\n\", A)"
      ],
      "metadata": {
        "colab": {
          "base_uri": "https://localhost:8080/"
        },
        "id": "9bCD3Pw_MUOF",
        "outputId": "91bb4c24-4952-40c2-afd9-4b6b3fb0e036"
      },
      "execution_count": null,
      "outputs": [
        {
          "output_type": "stream",
          "name": "stdout",
          "text": [
            "Matriz:\n",
            " [[   7    1    3    1  -40]\n",
            " [  35   -2   14    8 -225]\n",
            " [  35  -30    6   27 -259]\n",
            " [  28  -38   -2   39 -160]]\n",
            "\n",
            "5.0\n",
            "5.0\n",
            "4.0\n",
            "5.0\n",
            "6.0\n",
            "\n",
            "Matriz Escalonada:\n",
            " [[  7   1   3   1 -40]\n",
            " [  0  -7  -1   3 -25]\n",
            " [  0   0  -4   7  66]\n",
            " [  0   0   0   3  18]]\n"
          ]
        }
      ]
    },
    {
      "cell_type": "code",
      "source": [
        "A = np.array([\n",
        "    [7, 1, 3, 1],\n",
        "    [35, -2, 14, 8],\n",
        "    [35, -30, 6, 27],\n",
        "    [28, -38, -2, 39]\n",
        "  ])\n",
        "\n",
        "b = np.array([\n",
        "    [-40],\n",
        "    [-225],\n",
        "    [-259],\n",
        "    [-160]\n",
        "  ])\n",
        "\n",
        "A = np.concatenate((A, b), axis=1)\n",
        "print(\"Matriz:\\n\", A)\n",
        "print()\n",
        "\n",
        "# Método de Gauss-Jordan\n",
        "def gauss(A, b):\n",
        "  length = len(A)\n",
        "\n",
        "  for i in range(length):\n",
        "    pivo = A[i, i]\n",
        "\n",
        "    for j in range(i + 1, length):\n",
        "      fator = A[j, i] / pivo\n",
        "      print(f\"Fator L{j + 1} = L{j + 1} - ({fator}) * L{i + 1}\")\n",
        "\n",
        "      A[j, :] = A[j, :] - fator * A[i, :]\n",
        "      b[j] = b[j] - fator * b[i]\n",
        "\n",
        "  return A\n",
        "\n",
        "A = gauss(A, b)\n",
        "print(\"\\nMatriz Escalonada:\\n\", A)"
      ],
      "metadata": {
        "colab": {
          "base_uri": "https://localhost:8080/"
        },
        "id": "ENnItYI0KVTI",
        "outputId": "1854ddf7-b729-4ece-941f-b3a8fa6ea387"
      },
      "execution_count": null,
      "outputs": [
        {
          "output_type": "stream",
          "name": "stdout",
          "text": [
            "Matriz:\n",
            " [[   7    1    3    1  -40]\n",
            " [  35   -2   14    8 -225]\n",
            " [  35  -30    6   27 -259]\n",
            " [  28  -38   -2   39 -160]]\n",
            "\n",
            "Fator L2 = L2 - (5.0) * L1\n",
            "Fator L3 = L3 - (5.0) * L1\n",
            "Fator L4 = L4 - (4.0) * L1\n",
            "Fator L3 = L3 - (5.0) * L2\n",
            "Fator L4 = L4 - (6.0) * L2\n",
            "Fator L4 = L4 - (2.0) * L3\n",
            "\n",
            "Matriz Escalonada:\n",
            " [[  7   1   3   1 -40]\n",
            " [  0  -7  -1   3 -25]\n",
            " [  0   0  -4   7  66]\n",
            " [  0   0   0   3  18]]\n"
          ]
        }
      ]
    }
  ]
}