{
  "nbformat": 4,
  "nbformat_minor": 0,
  "metadata": {
    "colab": {
      "provenance": []
    },
    "kernelspec": {
      "name": "python3",
      "display_name": "Python 3"
    },
    "language_info": {
      "name": "python"
    }
  },
  "cells": [
    {
      "cell_type": "code",
      "execution_count": null,
      "metadata": {
        "id": "p6zhRCeoJQ3s"
      },
      "outputs": [],
      "source": [
        "import numpy as np"
      ]
    },
    {
      "cell_type": "code",
      "source": [
        "A = np.array([\n",
        "    [6, -3, -6, 3],\n",
        "    [-42, 27, 44, -14],\n",
        "    [-6, 15, 4, 8],\n",
        "    [12, -42, -42, -52]\n",
        "  ])\n",
        "\n",
        "b = np.array([\n",
        "    [93],\n",
        "    [-631],\n",
        "    [-23],\n",
        "    [128]\n",
        "  ])\n",
        "\n",
        "A = np.concatenate((A, b), axis=1)\n",
        "print(\"Matriz:\\n\", A)\n",
        "print()\n",
        "\n",
        "def decomposicaoLU(A):\n",
        "  length = len(A)\n",
        "  L = np.eye(length) # matriz identidade\n",
        "\n",
        "  for i in range(length):\n",
        "    pivo = A[i, i]\n",
        "\n",
        "    for j in range(i+1, length):\n",
        "      fator = A[j, i] / pivo\n",
        "\n",
        "      L[j, i] = fator\n",
        "      A[j] = A[j] - (fator * A[i])\n",
        "\n",
        "  U = A[:, :-1] # A, sem a última coluna (que é b)\n",
        "  return L, U\n",
        "\n",
        "L, U = decomposicaoLU(A)\n",
        "print(\"Matriz L:\\n\", L)\n",
        "print()\n",
        "print(\"Matriz U:\\n\", U)"
      ],
      "metadata": {
        "id": "AtYttIQ7J3Mg",
        "colab": {
          "base_uri": "https://localhost:8080/"
        },
        "outputId": "15e0ffdc-84f2-473e-8f6d-bde11d0d459f"
      },
      "execution_count": null,
      "outputs": [
        {
          "output_type": "stream",
          "name": "stdout",
          "text": [
            "Matriz:\n",
            " [[   6   -3   -6    3   93]\n",
            " [ -42   27   44  -14 -631]\n",
            " [  -6   15    4    8  -23]\n",
            " [  12  -42  -42  -52  128]]\n",
            "\n",
            "Matriz L:\n",
            " [[ 1.  0.  0.  0.]\n",
            " [-7.  1.  0.  0.]\n",
            " [-1.  2.  1.  0.]\n",
            " [ 2. -6.  3.  1.]]\n",
            "\n",
            "Matriz U:\n",
            " [[ 6 -3 -6  3]\n",
            " [ 0  6  2  7]\n",
            " [ 0  0 -6 -3]\n",
            " [ 0  0  0 -7]]\n"
          ]
        }
      ]
    }
  ]
}