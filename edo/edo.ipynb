{
  "nbformat": 4,
  "nbformat_minor": 0,
  "metadata": {
    "colab": {
      "provenance": []
    },
    "kernelspec": {
      "name": "python3",
      "display_name": "Python 3"
    },
    "language_info": {
      "name": "python"
    }
  },
  "cells": [
    {
      "cell_type": "markdown",
      "source": [
        "# Equação Diferencial Ordinária (EDO)"
      ],
      "metadata": {
        "id": "o1M1tcxaa-DX"
      }
    },
    {
      "cell_type": "markdown",
      "source": [
        "São equações com derivadas ordinárias em relação as variáveis dependentes."
      ],
      "metadata": {
        "id": "cf_ThVl4cWS-"
      }
    },
    {
      "cell_type": "markdown",
      "source": [
        "## Importações"
      ],
      "metadata": {
        "id": "L0hzOnbjcTIT"
      }
    },
    {
      "cell_type": "code",
      "source": [
        "import numpy as np\n",
        "import matplotlib.pyplot as plt"
      ],
      "metadata": {
        "id": "Rr9dwgumcP9l"
      },
      "execution_count": 1,
      "outputs": []
    },
    {
      "cell_type": "markdown",
      "source": [
        "## Entradas"
      ],
      "metadata": {
        "id": "RiA6iPc8y6XI"
      }
    },
    {
      "cell_type": "code",
      "source": [
        "exp = '-1.2 * y + 7 * np.e ** (-0.3 * x)'\n",
        "x0 = 0.0\n",
        "y0 = 3.0\n",
        "h = 0.5\n",
        "n = 20\n",
        "g = lambda x,y: eval(exp)"
      ],
      "metadata": {
        "id": "P5O9hOAXzQuh"
      },
      "execution_count": 2,
      "outputs": []
    },
    {
      "cell_type": "markdown",
      "source": [
        "## Método de Euler"
      ],
      "metadata": {
        "id": "drytu7RTbel2"
      }
    },
    {
      "cell_type": "markdown",
      "source": [
        "O Método de Euler usa uma inclinação constante para aproximar pontos na função."
      ],
      "metadata": {
        "id": "WWGva2Dwsb3x"
      }
    },
    {
      "cell_type": "code",
      "source": [
        "def euler(g, x0, y0, h, n):\n",
        "  x = np.zeros(n + 1)\n",
        "  y = np.zeros(n + 1)\n",
        "  x[0] = x0\n",
        "  y[0] = y0\n",
        "\n",
        "  for i in range(n):\n",
        "      y[i + 1] = y[i] + h * g(x[i], y[i])\n",
        "      x[i + 1] = x[i] + h\n",
        "\n",
        "  return x, y\n",
        "\n",
        "xEuler, yEuler = euler(g, x0, y0, h, n)\n",
        "saida = yEuler[n]\n",
        "print(f'{saida:.3f}')"
      ],
      "metadata": {
        "colab": {
          "base_uri": "https://localhost:8080/"
        },
        "id": "FDJxJHlkcNhc",
        "outputId": "955a71f3-c6b9-4add-c858-4743220a4d6e"
      },
      "execution_count": 3,
      "outputs": [
        {
          "output_type": "stream",
          "name": "stdout",
          "text": [
            "0.378\n"
          ]
        }
      ]
    },
    {
      "cell_type": "markdown",
      "source": [
        "## Método de Heun"
      ],
      "metadata": {
        "id": "dkVk0v_ibpPt"
      }
    },
    {
      "cell_type": "markdown",
      "source": [
        "O Método de Heun é uma modificação de Euler, diferente de Euler, Heun calcula a média da inclinação para cada ponto."
      ],
      "metadata": {
        "id": "FHw51AX2_9Z_"
      }
    },
    {
      "cell_type": "code",
      "source": [
        "def heun(g, x0, y0, h, n):\n",
        "  x = np.zeros(n + 1)\n",
        "  y = np.zeros(n + 1)\n",
        "  x[0] = x0\n",
        "  y[0] = y0\n",
        "\n",
        "  for i in range(1, n+1):\n",
        "    k1 = h * g(x[i-1], y[i-1])\n",
        "    k2 = h * g(x[i-1] + h, y[i-1] + k1)\n",
        "    y[i] = y[i-1] + 0.5 * (k1 + k2)\n",
        "    x[i] = x[i-1] + h\n",
        "\n",
        "  return x, y\n",
        "\n",
        "xHeun, yHeun = heun(g, x0, y0, h, n)\n",
        "saida = yHeun[n]\n",
        "print(f'{saida:.3f}')"
      ],
      "metadata": {
        "colab": {
          "base_uri": "https://localhost:8080/"
        },
        "id": "M654VLJ-cOGG",
        "outputId": "5946e351-c775-45f6-c0cc-586157c95167"
      },
      "execution_count": 4,
      "outputs": [
        {
          "output_type": "stream",
          "name": "stdout",
          "text": [
            "0.391\n"
          ]
        }
      ]
    },
    {
      "cell_type": "markdown",
      "source": [
        "## Método do Ponto Médio"
      ],
      "metadata": {
        "id": "DTVZHZvebuE_"
      }
    },
    {
      "cell_type": "markdown",
      "source": [
        "O Método do Ponto Médio é parecido com o de Heun, a diferença é que esse método calcula duas inlcinações. A primeira inclinação é similar de Heun e a segunda inclinação é calculada no ponto médio do intervalo."
      ],
      "metadata": {
        "id": "8hqR6VF7xQpE"
      }
    },
    {
      "cell_type": "code",
      "source": [
        "def pontomedio(g, x0, y0, h, n):\n",
        "  x = np.zeros(n + 1)\n",
        "  y = np.zeros(n + 1)\n",
        "  x[0] = x0\n",
        "  y[0] = y0\n",
        "\n",
        "  for i in range(n):\n",
        "      k1 = y[i] + (h / 2) * g(x[i], y[i])\n",
        "      k2 = x[i] + (h / 2)\n",
        "      y[i + 1] = y[i] + h * g(k2, k1)\n",
        "      x[i + 1] = x[i] + h\n",
        "\n",
        "  return x, y\n",
        "\n",
        "xPontoMedio, yPontoMedio = pontomedio(g, x0, y0, h, n)\n",
        "saida = yPontoMedio[n]\n",
        "print(f'{saida:.3f}')"
      ],
      "metadata": {
        "id": "snZj2fUscOka",
        "colab": {
          "base_uri": "https://localhost:8080/"
        },
        "outputId": "0040af78-9f3c-438d-af59-9387a9450827"
      },
      "execution_count": 5,
      "outputs": [
        {
          "output_type": "stream",
          "name": "stdout",
          "text": [
            "0.390\n"
          ]
        }
      ]
    },
    {
      "cell_type": "markdown",
      "source": [
        "## Métodos de Runge Kutta"
      ],
      "metadata": {
        "id": "o0Woe6wybz2t"
      }
    },
    {
      "cell_type": "markdown",
      "source": [
        "Os métodos de Runge Kutta são métodos ordinários que buscam aprimorar os métodos anteriores para Equações Diferenciais Ordinárias. Foi visto que quanto mais inclinações (derivadas) fossem calculadas melhor seria a precisão do resultado. Sendo cada inclinação associada a um determinado coeficiente de compensação."
      ],
      "metadata": {
        "id": "1WPXOWURxRcy"
      }
    },
    {
      "cell_type": "code",
      "source": [
        "# método do Runge-Kutta de ordem 4\n",
        "def rk4(g, x0, y0, h, n):\n",
        "  x = np.zeros(n + 1)\n",
        "  y = np.zeros(n + 1)\n",
        "  x[0] = x0\n",
        "  y[0] = y0\n",
        "\n",
        "  for i in range(1, n+1):\n",
        "    k1 = h * g(x[i-1], y[i-1])\n",
        "    k2 = h * g(x[i-1] + h/2, y[i-1] + k1/2)\n",
        "    k3 = h * g(x[i-1] + h/2, y[i-1] + k2/2)\n",
        "    k4 = h * g(x[i-1] + h, y[i-1] + k3)\n",
        "    y[i] = y[i-1] + (1/6) * (k1 + 2*k2 + 2*k3 + k4)\n",
        "    x[i] = x[i-1] + h\n",
        "\n",
        "  return x, y\n",
        "\n",
        "xRK4, yRK4 = rk4(g, x0, y0, h, n)\n",
        "saida = yRK4[n]\n",
        "print(f'{saida:.3f}')"
      ],
      "metadata": {
        "id": "eEJxQPuScPBc",
        "colab": {
          "base_uri": "https://localhost:8080/"
        },
        "outputId": "62226571-80ed-42c1-b491-1bf34785e6d4"
      },
      "execution_count": 6,
      "outputs": [
        {
          "output_type": "stream",
          "name": "stdout",
          "text": [
            "0.387\n"
          ]
        }
      ]
    },
    {
      "cell_type": "markdown",
      "source": [
        "## Comparação dos Métodos"
      ],
      "metadata": {
        "id": "ebzQBJFXB2Cu"
      }
    },
    {
      "cell_type": "code",
      "source": [
        "def f(x):\n",
        "  return ((70 / 9) * np.e ** (-0.3 * x)) - ((43 / 9) * np.e ** (-1.2 * x))\n",
        "\n",
        "x = np.linspace(0, 10, 100)\n",
        "y = f(x)\n",
        "print(f'{y[-1]:.3f}')\n",
        "\n",
        "plt.plot(x, y, '-', label='Real')\n",
        "plt.plot(xEuler, yEuler, '--', label='Euler')\n",
        "plt.plot(xHeun, yHeun, '--', label='Heun')\n",
        "plt.plot(xPontoMedio, yPontoMedio, '--', label='Ponto Médio')\n",
        "plt.plot(xRK4, yRK4, '--', label='Runge Kutta')\n",
        "plt.xlabel('x')\n",
        "plt.ylabel('y')\n",
        "plt.title('Comparação dos Métodos')\n",
        "plt.grid(True)\n",
        "plt.legend()\n",
        "plt.show()"
      ],
      "metadata": {
        "colab": {
          "base_uri": "https://localhost:8080/",
          "height": 489
        },
        "id": "da2fpdeVAo3W",
        "outputId": "1f57cfd2-3695-43dd-e6ca-095853fb2e8e"
      },
      "execution_count": 7,
      "outputs": [
        {
          "output_type": "stream",
          "name": "stdout",
          "text": [
            "0.387\n"
          ]
        },
        {
          "output_type": "display_data",
          "data": {
            "text/plain": [
              "<Figure size 640x480 with 1 Axes>"
            ],
            "image/png": "[encoded data removed]"
          },
          "metadata": {}
        }
      ]
    }
  ]
}