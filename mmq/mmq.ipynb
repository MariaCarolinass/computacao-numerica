{
  "nbformat": 4,
  "nbformat_minor": 0,
  "metadata": {
    "colab": {
      "provenance": []
    },
    "kernelspec": {
      "name": "python3",
      "display_name": "Python 3"
    },
    "language_info": {
      "name": "python"
    }
  },
  "cells": [
    {
      "cell_type": "code",
      "source": [
        "import numpy as np\n",
        "\n",
        "x = np.array([[1.9], [3.2], [4.0]])\n",
        "y = np.array([[1.1], [1.3], [1.9]])\n",
        "\n",
        "X = np.concatenate((np.ones_like(x), x**1), 1)\n",
        "\n",
        "XtX = np.transpose(X)@X\n",
        "XtY = np.transpose(X)@y\n",
        "\n",
        "ac = np.linalg.solve(XtX, XtY)\n",
        "\n",
        "VE = X@ac - y\n",
        "\n",
        "EQ = np.sum(VE**2)\n",
        "\n",
        "print(f'X:\\n{X}',\n",
        "      f'XtX:\\n{XtX}',\n",
        "      f'XtY:\\n{XtY}',\n",
        "      f'Os valores de a_i são:\\n{ac}',\n",
        "      f'Vetor de erros:\\n{VE}',\n",
        "      f'O erro quadrático é: {EQ}',\n",
        "      sep = '\\n----------------------------------------------------\\n')"
      ],
      "metadata": {
        "colab": {
          "base_uri": "https://localhost:8080/"
        },
        "id": "tAEFPJMQxVxA",
        "outputId": "a00cfb35-76e1-4920-c6fc-abc705b0bf8e"
      },
      "execution_count": 1,
      "outputs": [
        {
          "output_type": "stream",
          "name": "stdout",
          "text": [
            "X:\n",
            "[[1.  1.9]\n",
            " [1.  3.2]\n",
            " [1.  4. ]]\n",
            "----------------------------------------------------\n",
            "XtX:\n",
            "[[ 3.    9.1 ]\n",
            " [ 9.1  29.85]]\n",
            "----------------------------------------------------\n",
            "XtY:\n",
            "[[ 4.3 ]\n",
            " [13.85]]\n",
            "----------------------------------------------------\n",
            "Os valores de a_i são:\n",
            "[[0.34421365]\n",
            " [0.35905045]]\n",
            "----------------------------------------------------\n",
            "Vetor de erros:\n",
            "[[-0.0735905 ]\n",
            " [ 0.19317507]\n",
            " [-0.11958457]]\n",
            "----------------------------------------------------\n",
            "O erro quadrático é: 0.05703264094955483\n"
          ]
        }
      ]
    }
  ]
}